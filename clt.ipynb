{
  "nbformat": 4,
  "nbformat_minor": 0,
  "metadata": {
    "colab": {
      "name": "clt.ipynb",
      "provenance": [],
      "collapsed_sections": [],
      "authorship_tag": "ABX9TyO2fk3SDiH1y7P6gWH+ciDW",
      "include_colab_link": true
    },
    "kernelspec": {
      "name": "python3",
      "display_name": "Python 3"
    }
  },
  "cells": [
    {
      "cell_type": "markdown",
      "metadata": {
        "id": "view-in-github",
        "colab_type": "text"
      },
      "source": [
        "<a href=\"https://colab.research.google.com/github/Kiichiro-T/python/blob/main/clt.ipynb\" target=\"_parent\"><img src=\"https://colab.research.google.com/assets/colab-badge.svg\" alt=\"Open In Colab\"/></a>"
      ]
    },
    {
      "cell_type": "markdown",
      "metadata": {
        "id": "YHmGNcBOCN6v"
      },
      "source": [
        "## 中心極限定理\r\n"
      ]
    },
    {
      "cell_type": "code",
      "metadata": {
        "id": "40tn8jwvsSE_"
      },
      "source": [
        "import numpy as np\r\n",
        "import scipy as sp\r\n",
        "from decimal import Decimal\r\n",
        "\r\n",
        "%matplotlib inline\r\n",
        "import matplotlib.pyplot as plt\r\n",
        "\r\n",
        "# !pip install japanize-matplotlib\r\n",
        "# import japanize_matplotlib"
      ],
      "execution_count": null,
      "outputs": []
    },
    {
      "cell_type": "code",
      "metadata": {
        "colab": {
          "base_uri": "https://localhost:8080/",
          "height": 265
        },
        "id": "WPhD8q7P7KB_",
        "outputId": "20d33fd5-446c-46c9-dee6-9cdb8827d543"
      },
      "source": [
        "d={}\r\n",
        "for i in range(1000):\r\n",
        "  a = np.random.uniform(low=0.0,high=10,size=10)\r\n",
        "  b = np.mean(a)\r\n",
        "  c = np.around(b, decimals=0)\r\n",
        "  if c in d:\r\n",
        "    d[c] += 1\r\n",
        "  else:\r\n",
        "    d[c] = 1\r\n",
        "  \r\n",
        "ds = sorted(d.items(), key=lambda x:x[0])\r\n",
        "xs = [x for (x,y) in ds]\r\n",
        "ys = [y/1000 for (x,y) in ds]\r\n",
        "plt.bar(xs,ys)\r\n",
        "\r\n",
        "x = np.arange(0,10)\r\n",
        "y = sp.stats.norm.pdf(x, loc=5, scale=np.sqrt(25/3/10))\r\n",
        "plt.plot(x,y,color='r')\r\n",
        "\r\n",
        "plt.show()"
      ],
      "execution_count": null,
      "outputs": [
        {
          "output_type": "display_data",
          "data": {
            "image/png": "[encoded data removed]",
            "text/plain": [
              "<Figure size 432x288 with 1 Axes>"
            ]
          },
          "metadata": {
            "tags": [],
            "needs_background": "light"
          }
        }
      ]
    }
  ]
}