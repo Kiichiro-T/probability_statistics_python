{
  "nbformat": 4,
  "nbformat_minor": 0,
  "metadata": {
    "colab": {
      "name": "probability_distribution.ipynb",
      "provenance": [],
      "collapsed_sections": [],
      "authorship_tag": "ABX9TyOzy1A1SdLJ7lKM4no5mCrF",
      "include_colab_link": true
    },
    "kernelspec": {
      "name": "python3",
      "display_name": "Python 3"
    }
  },
  "cells": [
    {
      "cell_type": "markdown",
      "metadata": {
        "id": "view-in-github",
        "colab_type": "text"
      },
      "source": [
        "<a href=\"https://colab.research.google.com/github/Kiichiro-T/python/blob/main/probability_distribution.ipynb\" target=\"_parent\"><img src=\"https://colab.research.google.com/assets/colab-badge.svg\" alt=\"Open In Colab\"/></a>"
      ]
    },
    {
      "cell_type": "code",
      "metadata": {
        "id": "0i6bBFXNuowA"
      },
      "source": [
        "import numpy as np\r\n",
        "import scipy as sp\r\n",
        "import scipy.stats as stats\r\n",
        "\r\n",
        "%matplotlib inline\r\n",
        "import matplotlib.pyplot as plt\r\n",
        "\r\n",
        "# !pip install japanize-matplotlib\r\n",
        "# import japanize_matplotlib"
      ],
      "execution_count": null,
      "outputs": []
    },
    {
      "cell_type": "markdown",
      "metadata": {
        "id": "jQ6b2XXNvNnb"
      },
      "source": [
        "## 1. 二項分布"
      ]
    },
    {
      "cell_type": "code",
      "metadata": {
        "colab": {
          "base_uri": "https://localhost:8080/",
          "height": 355
        },
        "id": "o9KxkfsGu1-k",
        "outputId": "b7da9be6-5391-4af2-b836-777fdfb04fa0"
      },
      "source": [
        "n=100\r\n",
        "p=0.1\r\n",
        "rvs_binom = sp.stats.binom.rvs(n=n, p=p, size=10000)\r\n",
        "\r\n",
        "plt.hist(rvs_binom)\r\n",
        "plt.show()\r\n",
        "print('中央値：', np.median(rvs_binom))\r\n",
        "print('期待値：', np.mean(rvs_binom))\r\n",
        "print('分散：', np.var(rvs_binom))\r\n",
        "print('歪度：', sp.stats.skew(rvs_binom))\r\n",
        "print('尖度：', sp.stats.kurtosis(rvs_binom))"
      ],
      "execution_count": null,
      "outputs": [
        {
          "output_type": "display_data",
          "data": {
            "image/png": "[encoded data removed]",
            "text/plain": [
              "<Figure size 432x288 with 1 Axes>"
            ]
          },
          "metadata": {
            "tags": [],
            "needs_background": "light"
          }
        },
        {
          "output_type": "stream",
          "text": [
            "中央値： 10.0\n",
            "期待値： 9.9934\n",
            "分散： 8.901556439999998\n",
            "歪度： 0.23492732838803745\n",
            "尖度： 0.030728659920615353\n"
          ],
          "name": "stdout"
        }
      ]
    },
    {
      "cell_type": "markdown",
      "metadata": {
        "id": "ZsMwoVoX7VAJ"
      },
      "source": [
        "## 2. ポアソン分布"
      ]
    },
    {
      "cell_type": "code",
      "metadata": {
        "colab": {
          "base_uri": "https://localhost:8080/",
          "height": 355
        },
        "id": "nScJDhVX7UXH",
        "outputId": "8bb05608-e080-4df9-a912-4b326106acc3"
      },
      "source": [
        "mu=1\r\n",
        "rvs_poisson = sp.stats.poisson.rvs(mu=mu, size=10000)\r\n",
        "\r\n",
        "plt.hist(rvs_poisson)\r\n",
        "plt.show()\r\n",
        "print('中央値：', np.median(rvs_poisson))\r\n",
        "print('期待値：', np.mean(rvs_poisson))\r\n",
        "print('分散：', np.var(rvs_poisson))\r\n",
        "print('歪度：', sp.stats.skew(rvs_poisson))\r\n",
        "print('尖度：', sp.stats.kurtosis(rvs_poisson))"
      ],
      "execution_count": null,
      "outputs": [
        {
          "output_type": "display_data",
          "data": {
            "image/png": "[encoded data removed]",
            "text/plain": [
              "<Figure size 432x288 with 1 Axes>"
            ]
          },
          "metadata": {
            "tags": [],
            "needs_background": "light"
          }
        },
        {
          "output_type": "stream",
          "text": [
            "中央値： 1.0\n",
            "期待値： 0.9926\n",
            "分散： 0.98054524\n",
            "歪度： 1.0189588121082622\n",
            "尖度： 1.111586821623101\n"
          ],
          "name": "stdout"
        }
      ]
    },
    {
      "cell_type": "markdown",
      "metadata": {
        "id": "oZy_-Lwv8pcl"
      },
      "source": [
        "### 二項分布vs.ポアソン分布"
      ]
    },
    {
      "cell_type": "code",
      "metadata": {
        "colab": {
          "base_uri": "https://localhost:8080/",
          "height": 265
        },
        "id": "InsG4HvK8tic",
        "outputId": "c4d92cb5-bec8-42ff-d269-d0571b0b5a74"
      },
      "source": [
        "k = np.arange(0, 30)\r\n",
        "\r\n",
        "n=100\r\n",
        "p=0.1\r\n",
        "# rvs_binom = sp.stats.binom.rvs(n=n, p=p, size=10000)\r\n",
        "binom_pmf = stats.binom.pmf(k, n, p)\r\n",
        "plt.plot(k, binom_pmf, 'bo', ms=8)\r\n",
        "\r\n",
        "mu=10\r\n",
        "# rvs_poisson = sp.stats.poisson.rvs(mu=mu, size=10000)\r\n",
        "poisson_pmf = stats.poisson.pmf(k, mu)\r\n",
        "plt.plot(k, poisson_pmf, 'ro', ms=8)\r\n",
        "plt.show()"
      ],
      "execution_count": null,
      "outputs": [
        {
          "output_type": "display_data",
          "data": {
            "image/png": "[encoded data removed]",
            "text/plain": [
              "<Figure size 432x288 with 1 Axes>"
            ]
          },
          "metadata": {
            "tags": [],
            "needs_background": "light"
          }
        }
      ]
    },
    {
      "cell_type": "markdown",
      "metadata": {
        "id": "7I7QBM1Mplp7"
      },
      "source": [
        "## 3. 幾何分布"
      ]
    },
    {
      "cell_type": "code",
      "metadata": {
        "colab": {
          "base_uri": "https://localhost:8080/",
          "height": 355
        },
        "id": "hUl3tpZSpk2j",
        "outputId": "18bca1af-7c14-471f-d3ac-b41be61e58f9"
      },
      "source": [
        "p=0.01\r\n",
        "rvs_geom = sp.stats.geom.rvs(p=p, size=10000)\r\n",
        "\r\n",
        "plt.hist(rvs_geom)\r\n",
        "plt.show()\r\n",
        "print('中央値：', np.median(rvs_geom))\r\n",
        "print('期待値：', np.mean(rvs_geom))\r\n",
        "print('分散：', np.var(rvs_geom))\r\n",
        "print('歪度：', sp.stats.skew(rvs_geom))\r\n",
        "print('尖度：', sp.stats.kurtosis(rvs_geom))"
      ],
      "execution_count": null,
      "outputs": [
        {
          "output_type": "display_data",
          "data": {
            "image/png": "[encoded data removed]",
            "text/plain": [
              "<Figure size 432x288 with 1 Axes>"
            ]
          },
          "metadata": {
            "tags": [],
            "needs_background": "light"
          }
        },
        {
          "output_type": "stream",
          "text": [
            "中央値： 69.0\n",
            "期待値： 99.3816\n",
            "分散： 9962.467981440002\n",
            "歪度： 2.0368544932686237\n",
            "尖度： 6.260017452526297\n"
          ],
          "name": "stdout"
        }
      ]
    },
    {
      "cell_type": "markdown",
      "metadata": {
        "id": "TqpCp5z4wFNL"
      },
      "source": [
        "## 4. 負の二項分布"
      ]
    },
    {
      "cell_type": "code",
      "metadata": {
        "colab": {
          "base_uri": "https://localhost:8080/",
          "height": 354
        },
        "id": "q0JzeoA1wHni",
        "outputId": "99dced2d-9935-4b64-c83e-5e7daf97eff1"
      },
      "source": [
        "p=0.1\r\n",
        "rvs = sp.stats.nbinom.rvs(p=p, n=10, size=10000)\r\n",
        "\r\n",
        "plt.hist(rvs)\r\n",
        "plt.show()\r\n",
        "print('中央値：', np.median(rvs))\r\n",
        "print('期待値：', np.mean(rvs))\r\n",
        "print('分散：', np.var(rvs))\r\n",
        "print('歪度：', sp.stats.skew(rvs))\r\n",
        "print('尖度：', sp.stats.kurtosis(rvs))"
      ],
      "execution_count": null,
      "outputs": [
        {
          "output_type": "display_data",
          "data": {
            "image/png": "[encoded data removed]",
            "text/plain": [
              "<Figure size 432x288 with 1 Axes>"
            ]
          },
          "metadata": {
            "tags": [],
            "needs_background": "light"
          }
        },
        {
          "output_type": "stream",
          "text": [
            "中央値： 87.0\n",
            "期待値： 90.3257\n",
            "分散： 891.98641951\n",
            "歪度： 0.6042358155969847\n",
            "尖度： 0.4971885409405812\n"
          ],
          "name": "stdout"
        }
      ]
    },
    {
      "cell_type": "markdown",
      "metadata": {
        "id": "MTaRaO8uyNDE"
      },
      "source": [
        "## 5. 指数分布"
      ]
    },
    {
      "cell_type": "code",
      "metadata": {
        "colab": {
          "base_uri": "https://localhost:8080/",
          "height": 354
        },
        "id": "nXQoAbNvyP2H",
        "outputId": "82b75063-1fb6-4677-8e36-d4cdacb26c69"
      },
      "source": [
        "p=0.1\r\n",
        "rvs = sp.stats.expon.rvs(scale=0.1, size=10000)\r\n",
        "\r\n",
        "plt.hist(rvs)\r\n",
        "plt.show()\r\n",
        "print('中央値：', np.median(rvs))\r\n",
        "print('期待値：', np.mean(rvs))\r\n",
        "print('分散：', np.var(rvs))\r\n",
        "print('歪度：', sp.stats.skew(rvs))\r\n",
        "print('尖度：', sp.stats.kurtosis(rvs))"
      ],
      "execution_count": null,
      "outputs": [
        {
          "output_type": "display_data",
          "data": {
            "image/png": "[encoded data removed]",
            "text/plain": [
              "<Figure size 432x288 with 1 Axes>"
            ]
          },
          "metadata": {
            "tags": [],
            "needs_background": "light"
          }
        },
        {
          "output_type": "stream",
          "text": [
            "中央値： 0.06843193174505471\n",
            "期待値： 0.09908130739218492\n",
            "分散： 0.010114176932360533\n",
            "歪度： 2.1264565734599454\n",
            "尖度： 6.8979113003611126\n"
          ],
          "name": "stdout"
        }
      ]
    },
    {
      "cell_type": "markdown",
      "metadata": {
        "id": "Nk3gMZZdy5FT"
      },
      "source": [
        "## 5. ガンマ分布"
      ]
    },
    {
      "cell_type": "code",
      "metadata": {
        "colab": {
          "base_uri": "https://localhost:8080/",
          "height": 354
        },
        "id": "QLPbwhmHy7g1",
        "outputId": "e781be09-685b-4bbe-c5da-2f3d4f7e84b9"
      },
      "source": [
        "p=0.1\r\n",
        "rvs = sp.stats.gamma.rvs(a=1, size=10000)\r\n",
        "\r\n",
        "plt.hist(rvs)\r\n",
        "plt.show()\r\n",
        "print('中央値：', np.median(rvs))\r\n",
        "print('期待値：', np.mean(rvs))\r\n",
        "print('分散：', np.var(rvs))\r\n",
        "print('歪度：', sp.stats.skew(rvs))\r\n",
        "print('尖度：', sp.stats.kurtosis(rvs))"
      ],
      "execution_count": null,
      "outputs": [
        {
          "output_type": "display_data",
          "data": {
            "image/png": "[encoded data removed]",
            "text/plain": [
              "<Figure size 432x288 with 1 Axes>"
            ]
          },
          "metadata": {
            "tags": [],
            "needs_background": "light"
          }
        },
        {
          "output_type": "stream",
          "text": [
            "中央値： 0.7103981139992539\n",
            "期待値： 1.0153362181199899\n",
            "分散： 0.997515358620346\n",
            "歪度： 1.9334416052790784\n",
            "尖度： 5.3627623075054505\n"
          ],
          "name": "stdout"
        }
      ]
    },
    {
      "cell_type": "markdown",
      "metadata": {
        "id": "1CrBDtQW2DsB"
      },
      "source": [
        "## 6. 変数変換"
      ]
    },
    {
      "cell_type": "code",
      "metadata": {
        "id": "sq_dge3w2DEW"
      },
      "source": [
        "import random"
      ],
      "execution_count": null,
      "outputs": []
    },
    {
      "cell_type": "code",
      "metadata": {
        "colab": {
          "base_uri": "https://localhost:8080/"
        },
        "id": "wU3Q4vMO2I08",
        "outputId": "50cc757d-a70f-47c3-a0a8-a83fd9b78e1a"
      },
      "source": [
        "gen_num = 10001\r\n",
        "bin_num = 1001\r\n",
        "draw_range = (0, 10)\r\n",
        "bin_width = float(draw_range[1] / float(bin_num))\r\n",
        "\r\n",
        "random_nums = np.array([random.random() for i in range(gen_num)])\r\n",
        "trans_vars = -np.log(random_nums)\r\n",
        "hist = np.histogram(trans_vars, bins=bin_num, range=draw_range)\r\n",
        "histelem = np.array([hist[0][i] / bin_width for i in range(bin_num)])\r\n",
        "print(hist[1])\r\n",
        "\r\n",
        "exp_x = np.array([bin_width * i for i in range(bin_num)])\r\n",
        "exp_vars = np.exp(-exp_x)\r\n",
        "\r\n",
        "# plt.plot(hist[0])\r\n",
        "# plt.plot(exp_x, histelem)\r\n",
        "# plt.plot(exp_x, exp_vars * gen_num)\r\n",
        "plt.show()"
      ],
      "execution_count": null,
      "outputs": [
        {
          "output_type": "stream",
          "text": [
            "[0.00000000e+00 9.99000999e-03 1.99800200e-02 ... 9.98001998e+00\n",
            " 9.99000999e+00 1.00000000e+01]\n"
          ],
          "name": "stdout"
        }
      ]
    }
  ]
}