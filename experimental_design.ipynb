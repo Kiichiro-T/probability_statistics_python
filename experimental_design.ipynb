{
  "nbformat": 4,
  "nbformat_minor": 0,
  "metadata": {
    "colab": {
      "name": "experimental_design.ipynb",
      "provenance": [],
      "authorship_tag": "ABX9TyMK9a02aZbCyD+Fxvtfazg4",
      "include_colab_link": true
    },
    "kernelspec": {
      "name": "python3",
      "display_name": "Python 3"
    }
  },
  "cells": [
    {
      "cell_type": "markdown",
      "metadata": {
        "id": "view-in-github",
        "colab_type": "text"
      },
      "source": [
        "<a href=\"https://colab.research.google.com/github/Kiichiro-T/python/blob/main/experimental_design.ipynb\" target=\"_parent\"><img src=\"https://colab.research.google.com/assets/colab-badge.svg\" alt=\"Open In Colab\"/></a>"
      ]
    },
    {
      "cell_type": "code",
      "metadata": {
        "id": "f_xDMtY5PFxL"
      },
      "source": [
        "import pandas as pd\r\n",
        "import numpy as np\r\n",
        "import scipy as sp\r\n",
        "from scipy import stats as st\r\n",
        "\r\n",
        "from matplotlib import pyplot as plt\r\n",
        "import seaborn as sns\r\n",
        "sns.set()"
      ],
      "execution_count": null,
      "outputs": []
    },
    {
      "cell_type": "code",
      "metadata": {
        "colab": {
          "base_uri": "https://localhost:8080/",
          "height": 251
        },
        "id": "ESXm6FlzTu-F",
        "outputId": "afbdb4fe-8478-45df-de9c-98bc0a4609c0"
      },
      "source": [
        "print('肥料100,200,300,400 g ＋ 土A,Bの作物の収量')\r\n",
        "\r\n",
        "fertilizer_100 = np.array([14.5,15.1,14.1,16.2,15.3,17.5])\r\n",
        "fertilizer_200 = np.array([16.5,16.1,15,18.6,16.9,18.6])\r\n",
        "fertilizer_300 = np.array([17.8,19,15.2,21.7,20.5,19.4])\r\n",
        "fertilizer_400 = np.array([18.1,20.2,17.2,23.6,24.9,25.5])\r\n",
        "\r\n",
        "data = pd.DataFrame({'100':fertilizer_100,\r\n",
        "                     '200':fertilizer_200,\r\n",
        "                     '300':fertilizer_300,\r\n",
        "                     '400':fertilizer_400})\r\n",
        "data.index = ['A', 'A', 'A', 'B', 'B', 'B']\r\n",
        "data"
      ],
      "execution_count": null,
      "outputs": [
        {
          "output_type": "stream",
          "text": [
            "肥料100,200,300,400 g ＋ 土A,Bの作物の収量\n"
          ],
          "name": "stdout"
        },
        {
          "output_type": "execute_result",
          "data": {
            "text/html": [
              "<div>\n",
              "<style scoped>\n",
              "    .dataframe tbody tr th:only-of-type {\n",
              "        vertical-align: middle;\n",
              "    }\n",
              "\n",
              "    .dataframe tbody tr th {\n",
              "        vertical-align: top;\n",
              "    }\n",
              "\n",
              "    .dataframe thead th {\n",
              "        text-align: right;\n",
              "    }\n",
              "</style>\n",
              "<table border=\"1\" class=\"dataframe\">\n",
              "  <thead>\n",
              "    <tr style=\"text-align: right;\">\n",
              "      <th></th>\n",
              "      <th>100</th>\n",
              "      <th>200</th>\n",
              "      <th>300</th>\n",
              "      <th>400</th>\n",
              "    </tr>\n",
              "  </thead>\n",
              "  <tbody>\n",
              "    <tr>\n",
              "      <th>A</th>\n",
              "      <td>14.5</td>\n",
              "      <td>16.5</td>\n",
              "      <td>17.8</td>\n",
              "      <td>18.1</td>\n",
              "    </tr>\n",
              "    <tr>\n",
              "      <th>A</th>\n",
              "      <td>15.1</td>\n",
              "      <td>16.1</td>\n",
              "      <td>19.0</td>\n",
              "      <td>20.2</td>\n",
              "    </tr>\n",
              "    <tr>\n",
              "      <th>A</th>\n",
              "      <td>14.1</td>\n",
              "      <td>15.0</td>\n",
              "      <td>15.2</td>\n",
              "      <td>17.2</td>\n",
              "    </tr>\n",
              "    <tr>\n",
              "      <th>B</th>\n",
              "      <td>16.2</td>\n",
              "      <td>18.6</td>\n",
              "      <td>21.7</td>\n",
              "      <td>23.6</td>\n",
              "    </tr>\n",
              "    <tr>\n",
              "      <th>B</th>\n",
              "      <td>15.3</td>\n",
              "      <td>16.9</td>\n",
              "      <td>20.5</td>\n",
              "      <td>24.9</td>\n",
              "    </tr>\n",
              "    <tr>\n",
              "      <th>B</th>\n",
              "      <td>17.5</td>\n",
              "      <td>18.6</td>\n",
              "      <td>19.4</td>\n",
              "      <td>25.5</td>\n",
              "    </tr>\n",
              "  </tbody>\n",
              "</table>\n",
              "</div>"
            ],
            "text/plain": [
              "    100   200   300   400\n",
              "A  14.5  16.5  17.8  18.1\n",
              "A  15.1  16.1  19.0  20.2\n",
              "A  14.1  15.0  15.2  17.2\n",
              "B  16.2  18.6  21.7  23.6\n",
              "B  15.3  16.9  20.5  24.9\n",
              "B  17.5  18.6  19.4  25.5"
            ]
          },
          "metadata": {
            "tags": []
          },
          "execution_count": 4
        }
      ]
    },
    {
      "cell_type": "code",
      "metadata": {
        "colab": {
          "base_uri": "https://localhost:8080/",
          "height": 202
        },
        "id": "b20bkJLCVjSs",
        "outputId": "031d1164-4d3f-4eb4-cd66-76df9b074b0a"
      },
      "source": [
        "y_mean = data.stack().mean()\r\n",
        "\r\n",
        "yij_mean = pd.DataFrame({})\r\n",
        "for j in ['100', '200', '300', '400']:\r\n",
        "  yij_mean[j] = np.array([data[j]['A'].mean(), data[j]['B'].mean()])\r\n",
        "yij_mean.index = ['A', 'B']\r\n",
        "\r\n",
        "yi_mean = {\r\n",
        "  'A': data.loc['A'].stack().mean(),\r\n",
        "  'B': data.loc['B'].stack().mean()\r\n",
        "}\r\n",
        "\r\n",
        "yj_mean = {\r\n",
        "  '100': data['100'].mean(),\r\n",
        "  '200': data['200'].mean(),\r\n",
        "  '300': data['300'].mean(),\r\n",
        "  '400': data['400'].mean()\r\n",
        "}\r\n",
        "\r\n",
        "# 総平方和\r\n",
        "St = 0\r\n",
        "# 土の種類の平方和（水準1）\r\n",
        "S1 = 0\r\n",
        "# 肥料の量の平方和（水準2）\r\n",
        "S2 = 0\r\n",
        "# 交互作用平方和\r\n",
        "S12 = 0\r\n",
        "# 誤差平方和\r\n",
        "Sr = 0\r\n",
        "for j in ['100', '200', '300', '400']:\r\n",
        "  for i in ['A', 'B']:\r\n",
        "    for d in data[j][i]:\r\n",
        "      St += (d - y_mean)**2\r\n",
        "      S1 += (yi_mean[i] - y_mean)**2\r\n",
        "      S2 += (yj_mean[j] - y_mean)**2\r\n",
        "      S12 += (yij_mean[j][i] - yi_mean[i] - yj_mean[j] + y_mean)**2\r\n",
        "      Sr += (d - yij_mean[j][i])**2\r\n",
        "\r\n",
        "# 全体\r\n",
        "dft = data.size - 1\r\n",
        "# 土の種類\r\n",
        "df1 = 2 - 1\r\n",
        "V1 = S1 / df1\r\n",
        "# 肥料の量\r\n",
        "df2 = 4 - 1\r\n",
        "V2 = S2 / df2\r\n",
        "# 交互作用\r\n",
        "df12 = df1 * df2\r\n",
        "V12 = S12 / df12\r\n",
        "# 残差\r\n",
        "dfr = dft - df1 - df2 - df12\r\n",
        "Vr = Sr / dfr\r\n",
        "\r\n",
        "# F値\r\n",
        "F1 = V1 / Vr\r\n",
        "F2 = V2 / Vr\r\n",
        "F12 = V12 / Vr\r\n",
        "\r\n",
        "S = np.array([S1, S2, S12, Sr, St])\r\n",
        "DF = np.array([df1, df2, df12, dfr, dft])\r\n",
        "V = np.array([V1, V2, V12, Vr, None])\r\n",
        "F = np.array([F1, F2, F12, None, None])\r\n",
        "\r\n",
        "anova = pd.DataFrame({'平方和':S,\r\n",
        "                     '自由度':DF,\r\n",
        "                     '平均平方':V,\r\n",
        "                     'F値':F})\r\n",
        "anova.index = ['土の種類', '肥料の量', '交互作用', '残差', '全体']\r\n",
        "anova"
      ],
      "execution_count": null,
      "outputs": [
        {
          "output_type": "execute_result",
          "data": {
            "text/html": [
              "<div>\n",
              "<style scoped>\n",
              "    .dataframe tbody tr th:only-of-type {\n",
              "        vertical-align: middle;\n",
              "    }\n",
              "\n",
              "    .dataframe tbody tr th {\n",
              "        vertical-align: top;\n",
              "    }\n",
              "\n",
              "    .dataframe thead th {\n",
              "        text-align: right;\n",
              "    }\n",
              "</style>\n",
              "<table border=\"1\" class=\"dataframe\">\n",
              "  <thead>\n",
              "    <tr style=\"text-align: right;\">\n",
              "      <th></th>\n",
              "      <th>平方和</th>\n",
              "      <th>自由度</th>\n",
              "      <th>平均平方</th>\n",
              "      <th>F値</th>\n",
              "    </tr>\n",
              "  </thead>\n",
              "  <tbody>\n",
              "    <tr>\n",
              "      <th>土の種類</th>\n",
              "      <td>66.333750</td>\n",
              "      <td>1</td>\n",
              "      <td>66.3338</td>\n",
              "      <td>46.3332</td>\n",
              "    </tr>\n",
              "    <tr>\n",
              "      <th>肥料の量</th>\n",
              "      <td>126.637917</td>\n",
              "      <td>3</td>\n",
              "      <td>42.2126</td>\n",
              "      <td>29.485</td>\n",
              "    </tr>\n",
              "    <tr>\n",
              "      <th>交互作用</th>\n",
              "      <td>17.791250</td>\n",
              "      <td>3</td>\n",
              "      <td>5.93042</td>\n",
              "      <td>4.14232</td>\n",
              "    </tr>\n",
              "    <tr>\n",
              "      <th>残差</th>\n",
              "      <td>22.906667</td>\n",
              "      <td>16</td>\n",
              "      <td>1.43167</td>\n",
              "      <td>None</td>\n",
              "    </tr>\n",
              "    <tr>\n",
              "      <th>全体</th>\n",
              "      <td>233.669583</td>\n",
              "      <td>23</td>\n",
              "      <td>None</td>\n",
              "      <td>None</td>\n",
              "    </tr>\n",
              "  </tbody>\n",
              "</table>\n",
              "</div>"
            ],
            "text/plain": [
              "             平方和  自由度     平均平方       F値\n",
              "土の種類   66.333750    1  66.3338  46.3332\n",
              "肥料の量  126.637917    3  42.2126   29.485\n",
              "交互作用   17.791250    3  5.93042  4.14232\n",
              "残差     22.906667   16  1.43167     None\n",
              "全体    233.669583   23     None     None"
            ]
          },
          "metadata": {
            "tags": []
          },
          "execution_count": 67
        }
      ]
    },
    {
      "cell_type": "code",
      "metadata": {
        "colab": {
          "base_uri": "https://localhost:8080/",
          "height": 501
        },
        "id": "1eEywtDOX-BZ",
        "outputId": "9500d375-7262-4c84-f0e0-9899adba97a5"
      },
      "source": [
        "print('2元配置分散分析を次のようにモデル化する')\r\n",
        "print('Yijk = µ + αi + βj + γij + εijk')\r\n",
        "\r\n",
        "# 交互作用に関する仮説\r\n",
        "print('H_0: γij = 0 がすべてのi,jについて成り立つ')\r\n",
        "print('H_1: γij ≠ 0 となるiが存在する')\r\n",
        "print('α = 0.05')\r\n",
        "\r\n",
        "f12_a = sp.stats.f.ppf(0.95, df12, dfr)\r\n",
        "print(F12, f12_a)\r\n",
        "if F12 > f12_a:\r\n",
        "  print('帰無仮説を棄却する')\r\n",
        "else:\r\n",
        "  print('帰無仮説を棄却しない')\r\n",
        "\r\n",
        "print('交互作用は有意である')\r\n",
        "\r\n",
        "# 土の種類（水準1）に関する仮説\r\n",
        "print('H_0: αi  = 0 がすべてのi,jについて成り立つ')\r\n",
        "print('H_1: αi  ≠ 0 となるiが存在する')\r\n",
        "print('α = 0.05')\r\n",
        "\r\n",
        "f1_a = sp.stats.f.ppf(0.95, df1, dfr)\r\n",
        "print(F1, f1_a)\r\n",
        "if F1 > f1_a:\r\n",
        "  print('帰無仮説を棄却する')\r\n",
        "else:\r\n",
        "  print('帰無仮説を棄却しない')\r\n",
        "\r\n",
        "print('土の種類は有意である')\r\n",
        "\r\n",
        "# 肥料の量（水準2）に関する仮説\r\n",
        "print('H_0: βj  = 0 がすべてのi,jについて成り立つ')\r\n",
        "print('H_1: βj  ≠ 0 となるiが存在する')\r\n",
        "print('α = 0.05')\r\n",
        "\r\n",
        "f2_a = sp.stats.f.ppf(0.95, df2, dfr)\r\n",
        "print(F1, f2_a)\r\n",
        "if F1 > f2_a:\r\n",
        "  print('帰無仮説を棄却する')\r\n",
        "else:\r\n",
        "  print('帰無仮説を棄却しない')\r\n",
        "\r\n",
        "print('肥料の量は有意である')\r\n",
        "\r\n",
        "F_a = np.array([f1_a, f2_a, f12_a])\r\n",
        "F = np.array([F1, F2, F12])\r\n",
        "result = np.array(['帰無仮説を棄却する', '帰無仮説を棄却する', '帰無仮説を棄却する'])\r\n",
        "\r\n",
        "f_result = pd.DataFrame({'Fα':F_a,\r\n",
        "                     'F値':F,\r\n",
        "                     '検定結果':result})\r\n",
        "f_result.index = ['土の種類', '肥料の量', '交互作用']\r\n",
        "f_result"
      ],
      "execution_count": null,
      "outputs": [
        {
          "output_type": "stream",
          "text": [
            "2元配置分散分析を次のようにモデル化する\n",
            "Yijk = µ + αi + βj + γij + εijk\n",
            "H_0: γij = 0 がすべてのi,jについて成り立つ\n",
            "H_1: γij ≠ 0 となるiが存在する\n",
            "α = 0.05\n",
            "4.142316647264262 3.238871517453585\n",
            "帰無仮説を棄却する\n",
            "交互作用は有意である\n",
            "H_0: αi  = 0 がすべてのi,jについて成り立つ\n",
            "H_1: αi  ≠ 0 となるiが存在する\n",
            "α = 0.05\n",
            "46.333236321303914 4.493998477666352\n",
            "帰無仮説を棄却する\n",
            "土の種類は有意である\n",
            "H_0: βj  = 0 がすべてのi,jについて成り立つ\n",
            "H_1: βj  ≠ 0 となるiが存在する\n",
            "α = 0.05\n",
            "46.333236321303914 3.238871517453585\n",
            "帰無仮説を棄却する\n",
            "肥料の量は有意である\n"
          ],
          "name": "stdout"
        },
        {
          "output_type": "execute_result",
          "data": {
            "text/html": [
              "<div>\n",
              "<style scoped>\n",
              "    .dataframe tbody tr th:only-of-type {\n",
              "        vertical-align: middle;\n",
              "    }\n",
              "\n",
              "    .dataframe tbody tr th {\n",
              "        vertical-align: top;\n",
              "    }\n",
              "\n",
              "    .dataframe thead th {\n",
              "        text-align: right;\n",
              "    }\n",
              "</style>\n",
              "<table border=\"1\" class=\"dataframe\">\n",
              "  <thead>\n",
              "    <tr style=\"text-align: right;\">\n",
              "      <th></th>\n",
              "      <th>Fα</th>\n",
              "      <th>F値</th>\n",
              "      <th>検定結果</th>\n",
              "    </tr>\n",
              "  </thead>\n",
              "  <tbody>\n",
              "    <tr>\n",
              "      <th>土の種類</th>\n",
              "      <td>4.493998</td>\n",
              "      <td>46.333236</td>\n",
              "      <td>帰無仮説を棄却する</td>\n",
              "    </tr>\n",
              "    <tr>\n",
              "      <th>肥料の量</th>\n",
              "      <td>3.238872</td>\n",
              "      <td>29.484963</td>\n",
              "      <td>帰無仮説を棄却する</td>\n",
              "    </tr>\n",
              "    <tr>\n",
              "      <th>交互作用</th>\n",
              "      <td>3.238872</td>\n",
              "      <td>4.142317</td>\n",
              "      <td>帰無仮説を棄却する</td>\n",
              "    </tr>\n",
              "  </tbody>\n",
              "</table>\n",
              "</div>"
            ],
            "text/plain": [
              "            Fα         F値       検定結果\n",
              "土の種類  4.493998  46.333236  帰無仮説を棄却する\n",
              "肥料の量  3.238872  29.484963  帰無仮説を棄却する\n",
              "交互作用  3.238872   4.142317  帰無仮説を棄却する"
            ]
          },
          "metadata": {
            "tags": []
          },
          "execution_count": 74
        }
      ]
    },
    {
      "cell_type": "code",
      "metadata": {
        "colab": {
          "base_uri": "https://localhost:8080/"
        },
        "id": "VNUBLAsYpbue",
        "outputId": "73cc1b59-dfa2-4a11-fa4b-d67ec9c9ace4"
      },
      "source": [
        "print('交互作用が有意なので、µij_hatの不偏推定値はyij_meanとなる')\r\n",
        "print(yij_mean)\r\n",
        "print('したがって、最適水準は、土Bかつ400gである。')\r\n",
        "tr_a = sp.stats.t.ppf(0.975, dfr)\r\n",
        "delta = tr_a * np.sqrt(Vr/3)\r\n",
        "print('µij_hatの信頼限界： µij_hat ± {:.2f}'.format(delta))"
      ],
      "execution_count": null,
      "outputs": [
        {
          "output_type": "stream",
          "text": [
            "交互作用が有意なので、µij_hatの不偏推定値はyij_meanとなる\n",
            "         100        200        300        400\n",
            "A  14.566667  15.866667  17.333333  18.500000\n",
            "B  16.333333  18.033333  20.533333  24.666667\n",
            "したがって、最適水準は、土Bかつ400gである。\n",
            "µij_hatの信頼限界： µij_hat ± 1.46\n"
          ],
          "name": "stdout"
        }
      ]
    },
    {
      "cell_type": "code",
      "metadata": {
        "colab": {
          "base_uri": "https://localhost:8080/",
          "height": 110
        },
        "id": "yGH4zIzNoR0V",
        "outputId": "30dacc85-4fc3-42a5-8070-14366e2f557f"
      },
      "source": [
        "yij_mean"
      ],
      "execution_count": null,
      "outputs": [
        {
          "output_type": "execute_result",
          "data": {
            "text/html": [
              "<div>\n",
              "<style scoped>\n",
              "    .dataframe tbody tr th:only-of-type {\n",
              "        vertical-align: middle;\n",
              "    }\n",
              "\n",
              "    .dataframe tbody tr th {\n",
              "        vertical-align: top;\n",
              "    }\n",
              "\n",
              "    .dataframe thead th {\n",
              "        text-align: right;\n",
              "    }\n",
              "</style>\n",
              "<table border=\"1\" class=\"dataframe\">\n",
              "  <thead>\n",
              "    <tr style=\"text-align: right;\">\n",
              "      <th></th>\n",
              "      <th>100</th>\n",
              "      <th>200</th>\n",
              "      <th>300</th>\n",
              "      <th>400</th>\n",
              "    </tr>\n",
              "  </thead>\n",
              "  <tbody>\n",
              "    <tr>\n",
              "      <th>A</th>\n",
              "      <td>14.566667</td>\n",
              "      <td>15.866667</td>\n",
              "      <td>17.333333</td>\n",
              "      <td>18.500000</td>\n",
              "    </tr>\n",
              "    <tr>\n",
              "      <th>B</th>\n",
              "      <td>16.333333</td>\n",
              "      <td>18.033333</td>\n",
              "      <td>20.533333</td>\n",
              "      <td>24.666667</td>\n",
              "    </tr>\n",
              "  </tbody>\n",
              "</table>\n",
              "</div>"
            ],
            "text/plain": [
              "         100        200        300        400\n",
              "A  14.566667  15.866667  17.333333  18.500000\n",
              "B  16.333333  18.033333  20.533333  24.666667"
            ]
          },
          "metadata": {
            "tags": []
          },
          "execution_count": 75
        }
      ]
    }
  ]
}