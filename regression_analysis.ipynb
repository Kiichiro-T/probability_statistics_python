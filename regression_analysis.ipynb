{
  "nbformat": 4,
  "nbformat_minor": 0,
  "metadata": {
    "colab": {
      "name": "regression_analysis.ipynb",
      "provenance": [],
      "collapsed_sections": [],
      "authorship_tag": "ABX9TyMOrL2aaflmTPF4/9ra5AA3",
      "include_colab_link": true
    },
    "kernelspec": {
      "name": "python3",
      "display_name": "Python 3"
    }
  },
  "cells": [
    {
      "cell_type": "markdown",
      "metadata": {
        "id": "view-in-github",
        "colab_type": "text"
      },
      "source": [
        "<a href=\"https://colab.research.google.com/github/Kiichiro-T/python/blob/main/regression_analysis.ipynb\" target=\"_parent\"><img src=\"https://colab.research.google.com/assets/colab-badge.svg\" alt=\"Open In Colab\"/></a>"
      ]
    },
    {
      "cell_type": "code",
      "metadata": {
        "id": "cWguFG-2u_NV"
      },
      "source": [
        "import numpy as np\r\n",
        "import pandas as pd\r\n",
        "from sklearn import datasets"
      ],
      "execution_count": null,
      "outputs": []
    },
    {
      "cell_type": "code",
      "metadata": {
        "id": "JB7mLmEDvO19"
      },
      "source": [
        "dataset = datasets.load_boston()\r\n",
        "# print(dataset.DESCR)\r\n",
        "x = dataset.data\r\n",
        "y = dataset.target"
      ],
      "execution_count": null,
      "outputs": []
    },
    {
      "cell_type": "code",
      "metadata": {
        "id": "645R1gThvbbs"
      },
      "source": [
        "from sklearn.model_selection import train_test_split\r\n",
        "\r\n",
        "# 訓練用データセット（70%）とテスト用データセット（30%）に分割\r\n",
        "x_train, x_test, y_train, y_test = train_test_split(x, y, test_size=0.3, random_state=0)"
      ],
      "execution_count": null,
      "outputs": []
    },
    {
      "cell_type": "code",
      "metadata": {
        "colab": {
          "base_uri": "https://localhost:8080/"
        },
        "id": "8P40oSVoxfzf",
        "outputId": "db100efd-79e9-4294-f89c-0fc029cdbbc7"
      },
      "source": [
        "N = len(x_train)\r\n",
        "ones = np.ones((N,1))\r\n",
        "X = np.concatenate((ones, x_train), axis=1)\r\n",
        "\r\n",
        "# 逆行列を計算\r\n",
        "xx = np.dot(X.T, X)\r\n",
        "xx_inv = np.linalg.inv(xx)\r\n",
        "# xt = np.dot(X.T, y_train)\r\n",
        "# beta1 = np.dot(xx_inv, xt)\r\n",
        "# print('逆行列を計算した場合：')\r\n",
        "# print(beta1)\r\n",
        "\r\n",
        "# 連立一次方程式を解く\r\n",
        "beta_hat = np.linalg.solve(X.T.dot(X), X.T.dot(y_train))\r\n",
        "print('連立一次方程式を解いた場合の　')\r\n",
        "print(beta_hat)\r\n",
        "\r\n",
        "# 当てはめ値（回帰値）\r\n",
        "y_hat = X.dot(beta_hat)\r\n",
        "# print(y_hat)\r\n",
        "\r\n",
        "# 残差\r\n",
        "e = y_train - y_hat\r\n",
        "# print(e)\r\n",
        "\r\n",
        "# 残差の平方和\r\n",
        "Se = e.T.dot(e)\r\n",
        "# print(Se)\r\n",
        "\r\n",
        "# 全変動\r\n",
        "y_mean = y_train.mean()\r\n",
        "a = y_train - y_mean * np.ones(N)\r\n",
        "St = a.T.dot(a)\r\n",
        "# print(St)\r\n",
        "\r\n",
        "# 自由度\r\n",
        "n = x_train.shape[0]\r\n",
        "k = x_train.shape[1]\r\n",
        "df = n - k\r\n",
        "\r\n",
        "# 決定係数\r\n",
        "R2 = 1 - Se / St\r\n",
        "print('決定係数:', R2)\r\n",
        "\r\n",
        "# 自由度調整済み決定係数\r\n",
        "R2_f = 1 -(Se/df)/(St/n-1)\r\n",
        "print('自由度調整済み決定係数:', R2_f)\r\n",
        "\r\n",
        "# 分散共分散行列\r\n",
        "s2 = Se / df\r\n",
        "V_hat = Se * xx_inv\r\n",
        "# print(V_hat)\r\n",
        "\r\n",
        "# 標準誤差\r\n",
        "se = np.sqrt(s2)\r\n",
        "\r\n",
        "# テスト用データセットを用いた評価\r\n",
        "N_test = len(x_test)\r\n",
        "X_test = np.concatenate((np.ones((N_test,1)), x_text), axis=1)\r\n",
        "y_test_hat = X_test.dot(beta_hat)\r\n",
        "e_test = y_test - y_test_hat\r\n",
        "Se_test = e_test.T.dot(e_test)\r\n",
        "y_test_mean = y_test.mean()\r\n",
        "b = y_test - y_test_mean * np.ones(N_test)\r\n",
        "St_test = b.T.dot(b)\r\n",
        "n_test = x_test.shape[0]\r\n",
        "k_test = x_test.shape[1]\r\n",
        "df_test = n_test - k_test\r\n",
        "R2_test = 1 - Se_test / St_test\r\n",
        "print('テストデータに対する決定係数:', R2_test)\r\n",
        "R2_f_test = 1 -(Se_test/df_test)/(St_test/n_test-1)\r\n",
        "print('テストデータに対する自由度調整済み決定係数:', R2_f_test)\r\n",
        "\r\n",
        "if R2 > R2_test:\r\n",
        "  print('R2>R2_testより性能が悪い（過学習）')"
      ],
      "execution_count": null,
      "outputs": [
        {
          "output_type": "stream",
          "text": [
            "連立一次方程式を解いた場合の　\n",
            "[ 3.79371077e+01 -1.21310401e-01  4.44664254e-02  1.13416945e-02\n",
            "  2.51124642e+00 -1.62312529e+01  3.85906801e+00 -9.98516565e-03\n",
            " -1.50026956e+00  2.42143466e-01 -1.10716124e-02 -1.01775264e+00\n",
            "  6.81446545e-03 -4.86738066e-01]\n",
            "決定係数: 0.7645451026942549\n",
            "自由度調整済み決定係数: 0.7526507406770253\n",
            "テストデータに対する決定係数: 0.6733825506400206\n",
            "テストデータに対する自由度調整済み決定係数: 0.6384939888287393\n",
            "R2>R2_testより性能が悪い（過学習）\n"
          ],
          "name": "stdout"
        }
      ]
    },
    {
      "cell_type": "markdown",
      "metadata": {
        "id": "qOJHIP1mvJrO"
      },
      "source": [
        "## メソッド化"
      ]
    },
    {
      "cell_type": "code",
      "metadata": {
        "id": "QRv5JbwbvIWg"
      },
      "source": [
        "def score(beta_hat, x, y):\r\n",
        "  N = len(x)\r\n",
        "  X = np.concatenate((np.ones((N,1)), x), axis=1)\r\n",
        "\r\n",
        "  # 当てはめ値（回帰値）\r\n",
        "  y_hat = X.dot(beta_hat)\r\n",
        "\r\n",
        "  # 残差\r\n",
        "  e = y - y_hat\r\n",
        "\r\n",
        "  # 残差の平方和\r\n",
        "  Se = e.T.dot(e)\r\n",
        "\r\n",
        "  # 全変動\r\n",
        "  y_mean = y.mean()\r\n",
        "  a = y - y_mean * np.ones(N)\r\n",
        "  St = a.T.dot(a)\r\n",
        "\r\n",
        "  # 自由度\r\n",
        "  n = x.shape[0]\r\n",
        "  k = x.shape[1]\r\n",
        "  df = n - k\r\n",
        "\r\n",
        "  # 決定係数\r\n",
        "  R2 = 1 - Se / St\r\n",
        "  print('テストデータに対する決定係数:', R2)\r\n",
        "\r\n",
        "  # 自由度調整済み決定係数\r\n",
        "  R2_f = 1 -(Se/df)/(St/n-1)\r\n",
        "  print('テストデータに対する自由度調整済み決定係数:', R2_f)\r\n",
        "  \r\n",
        "def calc(x, y):\r\n",
        "  N = len(x) # データセット数\r\n",
        "\r\n",
        "  X = np.concatenate((np.ones((N,1)), x), axis=1)\r\n",
        "\r\n",
        "  # 回帰係数\r\n",
        "  beta_hat = np.linalg.solve(X.T.dot(X), X.T.dot(y))\r\n",
        "  print('回帰係数：')\r\n",
        "  print(beta_hat)\r\n",
        "\r\n",
        "  return beta_hat"
      ],
      "execution_count": null,
      "outputs": []
    },
    {
      "cell_type": "code",
      "metadata": {
        "colab": {
          "base_uri": "https://localhost:8080/"
        },
        "id": "BX7O4_eQvOo0",
        "outputId": "dfb25a86-7d96-48be-b001-460ad213d292"
      },
      "source": [
        "beta_hat = calc(x_train, y_train)\r\n",
        "score(beta_hat, x_train, y_train)\r\n",
        "\r\n",
        "score(beta_hat, x_test, y_test)"
      ],
      "execution_count": null,
      "outputs": [
        {
          "output_type": "stream",
          "text": [
            "回帰係数：\n",
            "[ 3.79371077e+01 -1.21310401e-01  4.44664254e-02  1.13416945e-02\n",
            "  2.51124642e+00 -1.62312529e+01  3.85906801e+00 -9.98516565e-03\n",
            " -1.50026956e+00  2.42143466e-01 -1.10716124e-02 -1.01775264e+00\n",
            "  6.81446545e-03 -4.86738066e-01]\n",
            "テストデータに対する決定係数: 0.7645451026942549\n",
            "テストデータに対する自由度調整済み決定係数: 0.7526507406770253\n",
            "テストデータに対する決定係数: 0.6733825506400317\n",
            "テストデータに対する自由度調整済み決定係数: 0.6384939888287515\n"
          ],
          "name": "stdout"
        }
      ]
    },
    {
      "cell_type": "markdown",
      "metadata": {
        "id": "6q4UE47jMT1I"
      },
      "source": [
        "## 標準化したデータセットによる重回帰分析"
      ]
    },
    {
      "cell_type": "code",
      "metadata": {
        "colab": {
          "base_uri": "https://localhost:8080/"
        },
        "id": "QeKNd0vxLxJQ",
        "outputId": "8100e240-f0bd-4aa7-cc38-830a48e8c61c"
      },
      "source": [
        "x_train_i_mean = x_train.mean(axis=0)\r\n",
        "x_train_i_var = x_train.var(axis=0)\r\n",
        "x_train_std = (x_train - x_train_i_mean) / np.sqrt(x_train_i_var)\r\n",
        "# print('_____________________')\r\n",
        "# print(x_train_std)\r\n",
        "\r\n",
        "x_test_i_mean = x_test.mean(axis=0)\r\n",
        "x_test_i_var = x_test.var(axis=0)\r\n",
        "x_test_std = (x_test - x_test_i_mean) / np.sqrt(x_test_i_var)\r\n",
        "# print('_____________________')\r\n",
        "# print(x_test_std)\r\n",
        "\r\n",
        "# 確認用\r\n",
        "# from sklearn.preprocessing import StandardScaler\r\n",
        "\r\n",
        "# scaler1 = StandardScaler()\r\n",
        "# scaler1.fit(x_train)\r\n",
        "# a = scaler1.transform(x_train)\r\n",
        "# print('_____________________')\r\n",
        "# print(a)\r\n",
        "\r\n",
        "# scaler2 = StandardScaler()\r\n",
        "# scaler2.fit(x_test)\r\n",
        "# b = scaler2.transform(x_test)\r\n",
        "# print('_____________________')\r\n",
        "# print(b)\r\n",
        "\r\n",
        "beta_hat2 = calc(x_train_std, y_train)\r\n",
        "score(beta_hat2, x_train_std, y_train)\r\n",
        "\r\n",
        "score(beta_hat2, x_test_std, y_test)"
      ],
      "execution_count": null,
      "outputs": [
        {
          "output_type": "stream",
          "text": [
            "回帰係数：\n",
            "[22.74548023 -1.01190059  1.05028027  0.07920966  0.618962   -1.87369102\n",
            "  2.70526979 -0.27957264 -3.09766486  2.09689998 -1.88606339 -2.26110466\n",
            "  0.58264309 -3.44049838]\n",
            "テストデータに対する決定係数: 0.7645451026942549\n",
            "テストデータに対する自由度調整済み決定係数: 0.7526507406770253\n",
            "テストデータに対する決定係数: 0.6591396211105117\n",
            "テストデータに対する自由度調整済み決定係数: 0.6227296607081945\n"
          ],
          "name": "stdout"
        }
      ]
    },
    {
      "cell_type": "code",
      "metadata": {
        "id": "vr19XR04NAOk",
        "colab": {
          "base_uri": "https://localhost:8080/",
          "height": 415
        },
        "outputId": "1ea0ae54-347d-4ef2-c305-4efed83a689f"
      },
      "source": [
        "import scipy as sp\r\n",
        "\r\n",
        "# データセットを読み込み\r\n",
        "from sklearn.datasets import load_iris\r\n",
        "iris_dataset = load_iris()\r\n",
        "\r\n",
        "x = iris_dataset.data\r\n",
        "y = iris_dataset.target\r\n",
        "pd.DataFrame(iris_dataset.data, columns=iris_dataset.feature_names)"
      ],
      "execution_count": null,
      "outputs": [
        {
          "output_type": "execute_result",
          "data": {
            "text/html": [
              "<div>\n",
              "<style scoped>\n",
              "    .dataframe tbody tr th:only-of-type {\n",
              "        vertical-align: middle;\n",
              "    }\n",
              "\n",
              "    .dataframe tbody tr th {\n",
              "        vertical-align: top;\n",
              "    }\n",
              "\n",
              "    .dataframe thead th {\n",
              "        text-align: right;\n",
              "    }\n",
              "</style>\n",
              "<table border=\"1\" class=\"dataframe\">\n",
              "  <thead>\n",
              "    <tr style=\"text-align: right;\">\n",
              "      <th></th>\n",
              "      <th>sepal length (cm)</th>\n",
              "      <th>sepal width (cm)</th>\n",
              "      <th>petal length (cm)</th>\n",
              "      <th>petal width (cm)</th>\n",
              "    </tr>\n",
              "  </thead>\n",
              "  <tbody>\n",
              "    <tr>\n",
              "      <th>0</th>\n",
              "      <td>5.1</td>\n",
              "      <td>3.5</td>\n",
              "      <td>1.4</td>\n",
              "      <td>0.2</td>\n",
              "    </tr>\n",
              "    <tr>\n",
              "      <th>1</th>\n",
              "      <td>4.9</td>\n",
              "      <td>3.0</td>\n",
              "      <td>1.4</td>\n",
              "      <td>0.2</td>\n",
              "    </tr>\n",
              "    <tr>\n",
              "      <th>2</th>\n",
              "      <td>4.7</td>\n",
              "      <td>3.2</td>\n",
              "      <td>1.3</td>\n",
              "      <td>0.2</td>\n",
              "    </tr>\n",
              "    <tr>\n",
              "      <th>3</th>\n",
              "      <td>4.6</td>\n",
              "      <td>3.1</td>\n",
              "      <td>1.5</td>\n",
              "      <td>0.2</td>\n",
              "    </tr>\n",
              "    <tr>\n",
              "      <th>4</th>\n",
              "      <td>5.0</td>\n",
              "      <td>3.6</td>\n",
              "      <td>1.4</td>\n",
              "      <td>0.2</td>\n",
              "    </tr>\n",
              "    <tr>\n",
              "      <th>...</th>\n",
              "      <td>...</td>\n",
              "      <td>...</td>\n",
              "      <td>...</td>\n",
              "      <td>...</td>\n",
              "    </tr>\n",
              "    <tr>\n",
              "      <th>145</th>\n",
              "      <td>6.7</td>\n",
              "      <td>3.0</td>\n",
              "      <td>5.2</td>\n",
              "      <td>2.3</td>\n",
              "    </tr>\n",
              "    <tr>\n",
              "      <th>146</th>\n",
              "      <td>6.3</td>\n",
              "      <td>2.5</td>\n",
              "      <td>5.0</td>\n",
              "      <td>1.9</td>\n",
              "    </tr>\n",
              "    <tr>\n",
              "      <th>147</th>\n",
              "      <td>6.5</td>\n",
              "      <td>3.0</td>\n",
              "      <td>5.2</td>\n",
              "      <td>2.0</td>\n",
              "    </tr>\n",
              "    <tr>\n",
              "      <th>148</th>\n",
              "      <td>6.2</td>\n",
              "      <td>3.4</td>\n",
              "      <td>5.4</td>\n",
              "      <td>2.3</td>\n",
              "    </tr>\n",
              "    <tr>\n",
              "      <th>149</th>\n",
              "      <td>5.9</td>\n",
              "      <td>3.0</td>\n",
              "      <td>5.1</td>\n",
              "      <td>1.8</td>\n",
              "    </tr>\n",
              "  </tbody>\n",
              "</table>\n",
              "<p>150 rows × 4 columns</p>\n",
              "</div>"
            ],
            "text/plain": [
              "     sepal length (cm)  sepal width (cm)  petal length (cm)  petal width (cm)\n",
              "0                  5.1               3.5                1.4               0.2\n",
              "1                  4.9               3.0                1.4               0.2\n",
              "2                  4.7               3.2                1.3               0.2\n",
              "3                  4.6               3.1                1.5               0.2\n",
              "4                  5.0               3.6                1.4               0.2\n",
              "..                 ...               ...                ...               ...\n",
              "145                6.7               3.0                5.2               2.3\n",
              "146                6.3               2.5                5.0               1.9\n",
              "147                6.5               3.0                5.2               2.0\n",
              "148                6.2               3.4                5.4               2.3\n",
              "149                5.9               3.0                5.1               1.8\n",
              "\n",
              "[150 rows x 4 columns]"
            ]
          },
          "metadata": {
            "tags": []
          },
          "execution_count": 43
        }
      ]
    },
    {
      "cell_type": "code",
      "metadata": {
        "id": "z8O5kFxr6kqw"
      },
      "source": [
        "# アヤメデータをラベルと入力データに分離する\r\n",
        "from sklearn.model_selection import train_test_split\r\n",
        "\r\n",
        "x_train, x_test, y_train, y_test = train_test_split(x, y, test_size = 0.2, train_size = 0.8, shuffle = True)"
      ],
      "execution_count": null,
      "outputs": []
    },
    {
      "cell_type": "code",
      "metadata": {
        "colab": {
          "base_uri": "https://localhost:8080/"
        },
        "id": "OeZpyHGh7jr5",
        "outputId": "e9d05b5a-20e7-4290-ee80-6a752e64cb2c"
      },
      "source": [
        "# from sklearn.linear_model import LinearRegression\r\n",
        "\r\n",
        "# reg_model = LinearRegression()\r\n",
        "# reg_model.fit(x_train, y_train)\r\n",
        "# print(reg_model.coef_)\r\n",
        "# print(reg_model.intercept_)\r\n",
        "\r\n",
        "beta_hat = calc(x_train, y_train)\r\n",
        "print(beta_hat)\r\n",
        "\r\n",
        "# beta3（sepal width）の値が小さいのでt検定を行う。\r\n",
        "N = len(x_train)\r\n",
        "X = np.concatenate((np.ones((N,1)), x_train), axis=1)\r\n",
        "y_hat = X.dot(beta_hat)\r\n",
        "e = y_train - y_hat\r\n",
        "Se = e.T.dot(e)\r\n",
        "n = x.shape[0]\r\n",
        "k = x.shape[1]\r\n",
        "df = n - k\r\n",
        "s2 = Se / df\r\n",
        "\r\n",
        "# 標準誤差←間違い、分散共分散行列の対角成分から取得する。\r\n",
        "se = np.sqrt(s2)\r\n",
        "\r\n",
        "# t検定\r\n",
        "print('H_0: beta3 = 0')\r\n",
        "print('H_1: beta3 ≠ 0')\r\n",
        "print('α = 0.05')\r\n",
        "t = (beta_hat[1] - 0) / se\r\n",
        "t_a = sp.stats.t.ppf(0.975, df)\r\n",
        "if abs(t) > t_a:\r\n",
        "  print('帰無仮説を棄却する')\r\n",
        "else:\r\n",
        "  print('帰無仮説を棄却しない')\r\n",
        "\r\n",
        "print('sepal widthには統計的に優位な増加や減少を認められない')"
      ],
      "execution_count": null,
      "outputs": [
        {
          "output_type": "stream",
          "text": [
            "回帰係数：\n",
            "[ 0.23870394 -0.16058723  0.00104505  0.26916947  0.57091235]\n",
            "[ 0.23870394 -0.16058723  0.00104505  0.26916947  0.57091235]\n",
            "H_0: beta3 = 0\n",
            "H_1: beta3 ≠ 0\n",
            "α = 0.05\n",
            "帰無仮説を棄却しない\n"
          ],
          "name": "stdout"
        }
      ]
    },
    {
      "cell_type": "code",
      "metadata": {
        "id": "sz6eErwu-0J4"
      },
      "source": [
        "# 検定は一旦おいておく（2変数？）\r\n",
        "# 信頼区間\r\n",
        "# 最尤推定"
      ],
      "execution_count": null,
      "outputs": []
    }
  ]
}