{
  "nbformat": 4,
  "nbformat_minor": 0,
  "metadata": {
    "colab": {
      "name": "statistical_test.ipynb",
      "provenance": [],
      "collapsed_sections": [],
      "authorship_tag": "ABX9TyNZwQkkN7zPU56Pe7fUceoi",
      "include_colab_link": true
    },
    "kernelspec": {
      "name": "python3",
      "display_name": "Python 3"
    }
  },
  "cells": [
    {
      "cell_type": "markdown",
      "metadata": {
        "id": "view-in-github",
        "colab_type": "text"
      },
      "source": [
        "<a href=\"https://colab.research.google.com/github/Kiichiro-T/python/blob/main/statistical_test.ipynb\" target=\"_parent\"><img src=\"https://colab.research.google.com/assets/colab-badge.svg\" alt=\"Open In Colab\"/></a>"
      ]
    },
    {
      "cell_type": "code",
      "metadata": {
        "id": "lHf8IjE2--tE"
      },
      "source": [
        "import numpy as np\r\n",
        "import scipy as sp\r\n",
        "\r\n",
        "import pandas as pd\r\n",
        "\r\n",
        "%matplotlib inline\r\n",
        "import matplotlib.pyplot as plt"
      ],
      "execution_count": null,
      "outputs": []
    },
    {
      "cell_type": "code",
      "metadata": {
        "id": "YiH6e0drCbU2"
      },
      "source": [
        "# 標本データ\r\n",
        "samples = [128.4, 135.9, 126.5, 182.4, 157.6, 100.6, 176.4, 126.6, 146.1, 138.0, 167.7, 128.1, 156.1, 183.5, 133.2, 162.4, 169.0, 161.6, 127.7, 154.3]"
      ],
      "execution_count": null,
      "outputs": []
    },
    {
      "cell_type": "markdown",
      "metadata": {
        "id": "91KtqxMPBGci"
      },
      "source": [
        "## 1. 母平均の信頼区間"
      ]
    },
    {
      "cell_type": "code",
      "metadata": {
        "colab": {
          "base_uri": "https://localhost:8080/"
        },
        "id": "oR9XAUJj_OuC",
        "outputId": "24ed6a10-475a-4865-8887-bcb3ae91352c"
      },
      "source": [
        "s2 = np.var(samples, ddof=1)\r\n",
        "N = len(samples)\r\n",
        "mean = np.mean(samples)\r\n",
        "df = N - 1\r\n",
        "se = np.sqrt(s2/N)\r\n",
        "\r\n",
        "t = sp.stats.t.ppf(0.975, df)\r\n",
        "\r\n",
        "x_low = mean - t * se\r\n",
        "x_high = mean + t * se\r\n",
        "\r\n",
        "# 母平均の95%信頼区間\r\n",
        "# print(x_low, '≦µ≦', x_high)\r\n",
        "print('手計算：　{:.2f} ≦ µ ≦ {:.2f}'.format(x_low, x_high))\r\n",
        "\r\n",
        "bottom, up = sp.stats.t.interval(alpha=0.95, loc=mean, scale=se, df=df)\r\n",
        "print('ライブラリ：　{:.2f} ≦ µ ≦ {:.2f}'.format(bottom, up))"
      ],
      "execution_count": null,
      "outputs": [
        {
          "output_type": "stream",
          "text": [
            "手計算：　137.64 ≦ µ ≦ 158.57\n",
            "ライブラリ：　137.64 ≦ µ ≦ 158.57\n"
          ],
          "name": "stdout"
        }
      ]
    },
    {
      "cell_type": "code",
      "metadata": {
        "colab": {
          "base_uri": "https://localhost:8080/"
        },
        "id": "D7E5w6HzE42r",
        "outputId": "f788575c-9939-47fe-eb07-51e7b880298b"
      },
      "source": [
        "alpha = [0.9, 0.95, 0.99]\r\n",
        "for a in alpha:\r\n",
        "  t = sp.stats.t.ppf(a, df)\r\n",
        "  x_low = mean - t * se\r\n",
        "  x_high = mean + t * se\r\n",
        "  print('{:.2f}：　{:.2f} ≦ µ ≦ {:.2f}'.format(a, x_low, x_high))"
      ],
      "execution_count": null,
      "outputs": [
        {
          "output_type": "stream",
          "text": [
            "0.90：　141.47 ≦ µ ≦ 154.74\n",
            "0.95：　139.46 ≦ µ ≦ 156.75\n",
            "0.99：　135.41 ≦ µ ≦ 160.80\n"
          ],
          "name": "stdout"
        }
      ]
    },
    {
      "cell_type": "markdown",
      "metadata": {
        "id": "2HwTsqUvCf-F"
      },
      "source": [
        "## 2. 母分散の区間推定"
      ]
    },
    {
      "cell_type": "code",
      "metadata": {
        "colab": {
          "base_uri": "https://localhost:8080/"
        },
        "id": "BRWhM92VCeVX",
        "outputId": "9ef9767d-df44-40bd-a72f-79227cb68d0b"
      },
      "source": [
        "alpha = 0.05\r\n",
        "chi2_1 = sp.stats.chi2.ppf(alpha/2, df)\r\n",
        "chi2_2 = sp.stats.chi2.ppf(1-alpha/2, df)\r\n",
        "\r\n",
        "theta_high = df * s2 / chi2_1\r\n",
        "theta_low = df * s2 / chi2_2\r\n",
        "\r\n",
        "print('手計算：　{:.2f} ≦ o2 ≦ {:.2f}'.format(theta_low, theta_high))"
      ],
      "execution_count": null,
      "outputs": [
        {
          "output_type": "stream",
          "text": [
            "手計算：　289.08 ≦ o2 ≦ 1066.31\n"
          ],
          "name": "stdout"
        }
      ]
    },
    {
      "cell_type": "code",
      "metadata": {
        "colab": {
          "base_uri": "https://localhost:8080/"
        },
        "id": "7u5JyNa0F8wQ",
        "outputId": "26fbfdcf-28df-4554-e39b-31c90f75825d"
      },
      "source": [
        "alpha = [0.1, 0.05, 0.01, 0.001]\r\n",
        "for a in alpha:\r\n",
        "  chi2_1 = sp.stats.chi2.ppf(a/2, df)\r\n",
        "  chi2_2 = sp.stats.chi2.ppf(1-a/2, df)\r\n",
        "  x_high = df * s2 / chi2_1\r\n",
        "  x_low = df * s2 / chi2_2\r\n",
        "  print('{:.3f}：　{:.2f} ≦ o2 ≦ {:.2f}'.format(a, x_low, x_high))"
      ],
      "execution_count": null,
      "outputs": [
        {
          "output_type": "stream",
          "text": [
            "0.100：　315.06 ≦ µ ≦ 938.73\n",
            "0.050：　289.08 ≦ µ ≦ 1066.31\n",
            "0.010：　246.15 ≦ µ ≦ 1387.66\n",
            "0.001：　206.58 ≦ µ ≦ 1933.32\n"
          ],
          "name": "stdout"
        }
      ]
    },
    {
      "cell_type": "markdown",
      "metadata": {
        "id": "gS1BE66lIrQI"
      },
      "source": [
        "# 3. 母平均の検定"
      ]
    },
    {
      "cell_type": "code",
      "metadata": {
        "colab": {
          "base_uri": "https://localhost:8080/"
        },
        "id": "SYV2gUJyIuis",
        "outputId": "39069c29-53b7-4955-e632-827aac85d860"
      },
      "source": [
        "# 両側検定\r\n",
        "print('H_0: µ = 150')\r\n",
        "print('H_1: µ ≠ 150')\r\n",
        "print('α = 0.05')\r\n",
        "\r\n",
        "mu = 150\r\n",
        "t_a = abs(sp.stats.t.ppf(0.975, df))\r\n",
        "t = abs((mean - mu) / se)\r\n",
        "print(t, t_a)\r\n",
        "if t > t_a:\r\n",
        "  print('帰無仮説を棄却する')\r\n",
        "else:\r\n",
        "  print('帰無仮説を棄却しない')"
      ],
      "execution_count": null,
      "outputs": [
        {
          "output_type": "stream",
          "text": [
            "H_0: µ = 150\n",
            "H_1: µ ≠ 150\n",
            "α = 0.05\n",
            "0.3790576710291339 2.093024054408263\n",
            "帰無仮説を棄却しない\n"
          ],
          "name": "stdout"
        }
      ]
    },
    {
      "cell_type": "code",
      "metadata": {
        "colab": {
          "base_uri": "https://localhost:8080/"
        },
        "id": "Htv_EJT4Kmga",
        "outputId": "80fea728-58eb-4570-95ac-84985d193f1a"
      },
      "source": [
        "# 片側検定\r\n",
        "print('H_0: µ = 150')\r\n",
        "print('H_1: µ < 150')\r\n",
        "print('α = 0.05')\r\n",
        "\r\n",
        "mu = 160\r\n",
        "t_a = sp.stats.t.ppf(0.950, df)\r\n",
        "t = (mean - mu) / se\r\n",
        "print(t, t_a)\r\n",
        "if t < -t_a:\r\n",
        "  print('帰無仮説を棄却する')\r\n",
        "else:\r\n",
        "  print('帰無仮説を棄却しない')"
      ],
      "execution_count": null,
      "outputs": [
        {
          "output_type": "stream",
          "text": [
            "H_0: µ = 150\n",
            "H_1: µ < 150\n",
            "α = 0.05\n",
            "-2.37936200363669 1.729132811521367\n",
            "帰無仮説を棄却する\n"
          ],
          "name": "stdout"
        }
      ]
    },
    {
      "cell_type": "markdown",
      "metadata": {
        "id": "NIwACdtrLZ2V"
      },
      "source": [
        "## 4. 母分散の検定"
      ]
    },
    {
      "cell_type": "code",
      "metadata": {
        "colab": {
          "base_uri": "https://localhost:8080/"
        },
        "id": "lDSdcho5Lctg",
        "outputId": "e5f44281-3578-4568-a4dd-fd5ed77c5a26"
      },
      "source": [
        "# 両側検定\r\n",
        "print('H_0: o2 = 500')\r\n",
        "print('H_1: o2 ≠ 500')\r\n",
        "print('α = 0.05')\r\n",
        "\r\n",
        "alpha = 0.05\r\n",
        "sigma2 = 500\r\n",
        "chi2_1 = sp.stats.chi2.ppf(alpha/2, df)\r\n",
        "chi2_2 = sp.stats.chi2.ppf(1-alpha/2, df)\r\n",
        "chi2 = df * s2 / 500\r\n",
        "\r\n",
        "print(chi2_1, chi2, chi2_2)\r\n",
        "\r\n",
        "if chi2_1 < chi2 < chi2_2:\r\n",
        "  print('帰無仮説を棄却しない')\r\n",
        "else:\r\n",
        "  print('帰無仮説を棄却する')"
      ],
      "execution_count": null,
      "outputs": [
        {
          "output_type": "stream",
          "text": [
            "H_0: o2 = 500\n",
            "H_1: o2 ≠ 500\n",
            "α = 0.05\n",
            "8.906516481987971 18.994219 32.85232686172969\n",
            "帰無仮説を棄却しない\n"
          ],
          "name": "stdout"
        }
      ]
    },
    {
      "cell_type": "code",
      "metadata": {
        "colab": {
          "base_uri": "https://localhost:8080/"
        },
        "id": "1ARGTju1NWBP",
        "outputId": "5d971622-f5fa-4131-e255-f7392e859a8e"
      },
      "source": [
        "# 片側検定\r\n",
        "print('H_0: o2 = 500')\r\n",
        "print('H_1: o2 < 500')\r\n",
        "print('α = 0.05')\r\n",
        "\r\n",
        "alpha = 0.05\r\n",
        "sigma2 = 1000\r\n",
        "chi2_1 = sp.stats.chi2.ppf(alpha, df)\r\n",
        "chi2_2 = sp.stats.chi2.ppf(1-alpha, df)\r\n",
        "chi2 = df * s2 / sigma2\r\n",
        "\r\n",
        "print(chi2_1, chi2, chi2_2)\r\n",
        "\r\n",
        "if chi2 < chi2_1:\r\n",
        "  print('帰無仮説を棄却する')\r\n",
        "else:\r\n",
        "  print('帰無仮説を棄却しない')"
      ],
      "execution_count": null,
      "outputs": [
        {
          "output_type": "stream",
          "text": [
            "H_0: o2 = 500\n",
            "H_1: o2 < 500\n",
            "α = 0.05\n",
            "10.117013063859044 9.4971095 30.14352720564616\n",
            "帰無仮説を棄却する\n"
          ],
          "name": "stdout"
        }
      ]
    },
    {
      "cell_type": "markdown",
      "metadata": {
        "id": "6Hn6IrlLPQ3L"
      },
      "source": [
        "## 5. 対応のある2標本t検定"
      ]
    },
    {
      "cell_type": "code",
      "metadata": {
        "colab": {
          "base_uri": "https://localhost:8080/"
        },
        "id": "7c1iqYziPYWt",
        "outputId": "9545e4b7-441e-4dda-9885-0f600fedbe08"
      },
      "source": [
        "# 投薬による血圧の変化ｒ\r\n",
        "sample_list = [\r\n",
        "         [1, 175, 150],\r\n",
        "         [2, 125, 135],\r\n",
        "         [3, 170, 145],\r\n",
        "         [4, 155, 150],\r\n",
        "         [5, 145, 140]\r\n",
        "]\r\n",
        "new_list = []\r\n",
        "for i in range(len(sample_list)):\r\n",
        "  new_list.append(sample_list[i][1] - sample_list[i][2])\r\n",
        "\r\n",
        "s2 = np.var(new_list, ddof=1)\r\n",
        "mean = np.mean(new_list)\r\n",
        "N = len(new_list)\r\n",
        "df = N - 1\r\n",
        "se = np.sqrt(s2/N)\r\n",
        "print(s2, mean, N,se)\r\n",
        "\r\n",
        "print('H_0: µ = 0')\r\n",
        "print('H_1: µ > 0')\r\n",
        "print('α = 0.05')\r\n",
        "\r\n",
        "t = (mean - 0) / se\r\n",
        "t_a = sp.stats.t.ppf(0.950, df)\r\n",
        "print(t, t_a)\r\n",
        "if t > t_a:\r\n",
        "  print('帰無仮説を棄却する')\r\n",
        "else:\r\n",
        "  print('帰無仮説を棄却しない')"
      ],
      "execution_count": null,
      "outputs": [
        {
          "output_type": "stream",
          "text": [
            "225.0 10.0 5 6.708203932499369\n",
            "H_0: µ = 0\n",
            "H_1: µ > 0\n",
            "α = 0.05\n",
            "1.4907119849998598 2.13184678133629\n",
            "帰無仮説を棄却しない\n"
          ],
          "name": "stdout"
        }
      ]
    },
    {
      "cell_type": "markdown",
      "metadata": {
        "id": "e67WiKgwbPDj"
      },
      "source": [
        "## 6. 対応のない2標本t検定（母分散が等しい）"
      ]
    },
    {
      "cell_type": "code",
      "metadata": {
        "colab": {
          "base_uri": "https://localhost:8080/"
        },
        "id": "6SICCTOdbe5L",
        "outputId": "40126b2a-0a47-4a9c-ee62-1f9ad00dce98"
      },
      "source": [
        "print('A組の生徒40人の平均点65点、不偏分散49')\r\n",
        "print('B組の生徒43人の平均点70点、不偏分散100')\r\n",
        "na, nb = 40, 43\r\n",
        "mua, mub = 65, 70\r\n",
        "s2a, s2b = 49, 100\r\n",
        "df = na+nb-2\r\n",
        "s2 = ((na-1)*s2a+(nb-1)*s2b)/df\r\n",
        "\r\n",
        "t = (mua-mub)/(np.sqrt(s2 * (1/na + 1/nb)))\r\n",
        "print(t)\r\n",
        "print('両側検定')\r\n",
        "t1 = sp.stats.t.ppf(0.975, df)\r\n",
        "print(t1)\r\n",
        "if abs(t) > t1:\r\n",
        "  print('帰無仮説を棄却する')\r\n",
        "else:\r\n",
        "  print('帰無仮説を棄却しない')\r\n",
        "\r\n",
        "print('片側検定')\r\n",
        "t2 = sp.stats.t.ppf(0.05, df)\r\n",
        "print(t2)\r\n",
        "if t < t2:\r\n",
        "  print('帰無仮説を棄却する')\r\n",
        "else:\r\n",
        "  print('帰無仮説を棄却しない')"
      ],
      "execution_count": null,
      "outputs": [
        {
          "output_type": "stream",
          "text": [
            "A組の生徒40人の平均点65点、不偏分散49\n",
            "B組の生徒43人の平均点70点、不偏分散100\n",
            "-2.6204842221957914\n",
            "両側検定\n",
            "1.9896863232444828\n",
            "帰無仮説を棄却する\n",
            "片側検定\n",
            "-1.663883912866253\n",
            "帰無仮説を棄却する\n"
          ],
          "name": "stdout"
        }
      ]
    },
    {
      "cell_type": "markdown",
      "metadata": {
        "id": "5DTgEVQYe7cP"
      },
      "source": [
        "## 7. 母分散の比の検定（F分布）"
      ]
    },
    {
      "cell_type": "code",
      "metadata": {
        "colab": {
          "base_uri": "https://localhost:8080/",
          "height": 349
        },
        "id": "NHV96N7Ie_1r",
        "outputId": "b7e3ca4d-4730-4f78-b1bb-b36dc412281a"
      },
      "source": [
        "# 日本人男性30人をサンプル\r\n",
        "np.random.seed(1)\r\n",
        "Japan = np.round([np.random.normal(171, 6, 30)],1).reshape(30)\r\n",
        "\r\n",
        "# アメリカ人男性30人をサンプル\r\n",
        "np.random.seed(1)\r\n",
        "US = np.round([np.random.normal(180, 8, 30)],1).reshape(30)\r\n",
        "\r\n",
        "df = 30 - 1\r\n",
        "s2_j = np.var(Japan, ddof=1)\r\n",
        "s2_u = np.var(US, ddof=1)\r\n",
        "\r\n",
        "fig = plt.figure()\r\n",
        "ax = fig.add_subplot(111)\r\n",
        "ax.hist(Japan, bins=15, density=True, color='red', alpha=0.7)\r\n",
        "ax.hist(US, bins=15, density=True, color='blue', alpha=0.7)\r\n",
        "ax.set_title(('Japanese:Red   American:Blue'))\r\n",
        "ax.set_xlabel('height')\r\n",
        "ax.set_ylabel('proportion')\r\n",
        "fig.show()"
      ],
      "execution_count": null,
      "outputs": [
        {
          "output_type": "stream",
          "text": [
            "H_0: 母分散は等しい\n",
            "H_1: 母分散は等しくない\n",
            "α = 0.05\n"
          ],
          "name": "stdout"
        },
        {
          "output_type": "display_data",
          "data": {
            "image/png": "[encoded data removed]",
            "text/plain": [
              "<Figure size 432x288 with 1 Axes>"
            ]
          },
          "metadata": {
            "tags": [],
            "needs_background": "light"
          }
        }
      ]
    },
    {
      "cell_type": "code",
      "metadata": {
        "colab": {
          "base_uri": "https://localhost:8080/"
        },
        "id": "xp9-UeJqiB8-",
        "outputId": "b8cbf548-ad4f-4c83-f60c-442436cd2aac"
      },
      "source": [
        "print('H_0: 母分散は等しい')\r\n",
        "print('H_1: 母分散は等しくない')\r\n",
        "print('α = 0.05')\r\n",
        "\r\n",
        "alpha = 0.05\r\n",
        "\r\n",
        "f = s2_j / s2_u\r\n",
        "f1 = sp.stats.f.ppf(alpha/2, df, df)\r\n",
        "f2 = sp.stats.f.ppf(1-alpha/2, df, df)\r\n",
        "print(f1, f2)\r\n",
        "\r\n",
        "if f < f1 or f > f2:\r\n",
        "  print('帰無仮説を棄却する（母分散は等しくない）')\r\n",
        "else:\r\n",
        "  print('帰無仮説を棄却しない（母分散は等しくないとは言えない）')"
      ],
      "execution_count": null,
      "outputs": [
        {
          "output_type": "stream",
          "text": [
            "H_0: 母分散は等しい\n",
            "H_1: 母分散は等しくない\n",
            "α = 0.05\n",
            "0.47596477431003137 2.100995817284212\n",
            "帰無仮説を棄却しない（母分散は等しくないとは言えない）\n"
          ],
          "name": "stdout"
        }
      ]
    },
    {
      "cell_type": "code",
      "metadata": {
        "colab": {
          "base_uri": "https://localhost:8080/"
        },
        "id": "Le_pkjwsj6mG",
        "outputId": "0d29aff7-7d53-47d9-e44a-23a0afac57bc"
      },
      "source": [
        "## 8. Welchの検定\r\n",
        "A = np.array([13.8, 10.2, 4.6, 10.0, 4.2, 16.1, 14.4, 4.9, 7.7, 11.4])\r\n",
        "B = np.array([3.3, 2.6, 4.0, 4.7, 1.9, 2.9, 4.7, 5.3, 4.3, 3.0, 2.0])\r\n",
        "\r\n",
        "print('まずF検定によって等分散性の確認')\r\n",
        "print('H_0: 母分散は等しい')\r\n",
        "print('H_1: 母分散は等しくない')\r\n",
        "print('α = 0.05')\r\n",
        "\r\n",
        "s2_a = np.var(A, ddof=1)\r\n",
        "s2_b = np.var(B, ddof=1)\r\n",
        "n_a = len(A)\r\n",
        "n_b = len(B)\r\n",
        "df_a = n_a - 1\r\n",
        "df_b = n_b - 1\r\n",
        "\r\n",
        "f = s2_a / s2_b\r\n",
        "f1 = sp.stats.f.ppf(alpha/2, df_a, df_b)\r\n",
        "f2 = sp.stats.f.ppf(1-alpha/2, df_a, df_b)\r\n",
        "\r\n",
        "if f < f1 or f > f2:\r\n",
        "  print('帰無仮説を棄却する（母分散は等しくない）')\r\n",
        "else:\r\n",
        "  print('帰無仮説を棄却しない（母分散は等しくないとは言えない）')\r\n",
        "\r\n",
        "print('次にWelchのt検定')\r\n",
        "print('H_0: 平均は等しい')\r\n",
        "print('H_1: 平均は等しくない')\r\n",
        "print('α = 0.05')\r\n",
        "\r\n",
        "mean_a = np.mean(A)\r\n",
        "mean_b = np.mean(B)\r\n",
        "\r\n",
        "t = (mean_a - mean_b) / np.sqrt(s2_a/n_a+s2_b/n_b)\r\n",
        "nu = (s2_a/n_a+s2_b/n_b)**2/((s2_a/n_a)**2/df_a+(s2_b/n_b)**2/df_b)\r\n",
        "print('ν =', nu)\r\n",
        "nu_asterisk = 10\r\n",
        "t_a = sp.stats.t.ppf(0.975, nu_asterisk)\r\n",
        "\r\n",
        "if abs(t) > t_a:\r\n",
        "  print('帰無仮説を棄却する（母平均は等しくない、差がある）')\r\n",
        "else:\r\n",
        "  print('帰無仮説を棄却しない（母平均は等しくないとは言えない）')"
      ],
      "execution_count": null,
      "outputs": [
        {
          "output_type": "stream",
          "text": [
            "まずF検定によって等分散性の確認\n",
            "H_0: 母分散は等しい\n",
            "H_1: 母分散は等しくない\n",
            "α = 0.05\n",
            "帰無仮説を棄却する（母分散は等しくない）\n",
            "次にWelchのt検定\n",
            "H_0: 平均は等しい\n",
            "H_1: 平均は等しくない\n",
            "α = 0.05\n",
            "ν = 10.174492620405424\n",
            "帰無仮説を棄却する（母平均は等しくない、差がある）\n"
          ],
          "name": "stdout"
        }
      ]
    },
    {
      "cell_type": "markdown",
      "metadata": {
        "id": "L23_-re-okYi"
      },
      "source": [
        "## 8. 一元配置分散分析"
      ]
    },
    {
      "cell_type": "code",
      "metadata": {
        "colab": {
          "base_uri": "https://localhost:8080/",
          "height": 312
        },
        "id": "VyUm3Hb4orCS",
        "outputId": "65521d1e-1668-40bf-d694-1e599d218c49"
      },
      "source": [
        "print('因子： 学校、水準： A校, B校, C校, D校')\r\n",
        "A = np.array([66, 62, 80, 50, 57, 68, 73, 65])\r\n",
        "B = np.array([62, 60, 66, 63, 55, 53, 59, 63])\r\n",
        "C = np.array([65, 60, 78, 52, 59, 66, 73, 64])\r\n",
        "D = np.array([52, 59, 44, 67, 47, 53, 58, 49])\r\n",
        "\r\n",
        "data = pd.DataFrame({'A':A, 'B':B, 'C':C, 'D':D})\r\n",
        "data"
      ],
      "execution_count": null,
      "outputs": [
        {
          "output_type": "stream",
          "text": [
            "因子： 学校、水準： A校, B校, C校, D校\n"
          ],
          "name": "stdout"
        },
        {
          "output_type": "execute_result",
          "data": {
            "text/html": [
              "<div>\n",
              "<style scoped>\n",
              "    .dataframe tbody tr th:only-of-type {\n",
              "        vertical-align: middle;\n",
              "    }\n",
              "\n",
              "    .dataframe tbody tr th {\n",
              "        vertical-align: top;\n",
              "    }\n",
              "\n",
              "    .dataframe thead th {\n",
              "        text-align: right;\n",
              "    }\n",
              "</style>\n",
              "<table border=\"1\" class=\"dataframe\">\n",
              "  <thead>\n",
              "    <tr style=\"text-align: right;\">\n",
              "      <th></th>\n",
              "      <th>A</th>\n",
              "      <th>B</th>\n",
              "      <th>C</th>\n",
              "      <th>D</th>\n",
              "    </tr>\n",
              "  </thead>\n",
              "  <tbody>\n",
              "    <tr>\n",
              "      <th>0</th>\n",
              "      <td>66</td>\n",
              "      <td>62</td>\n",
              "      <td>65</td>\n",
              "      <td>52</td>\n",
              "    </tr>\n",
              "    <tr>\n",
              "      <th>1</th>\n",
              "      <td>62</td>\n",
              "      <td>60</td>\n",
              "      <td>60</td>\n",
              "      <td>59</td>\n",
              "    </tr>\n",
              "    <tr>\n",
              "      <th>2</th>\n",
              "      <td>80</td>\n",
              "      <td>66</td>\n",
              "      <td>78</td>\n",
              "      <td>44</td>\n",
              "    </tr>\n",
              "    <tr>\n",
              "      <th>3</th>\n",
              "      <td>50</td>\n",
              "      <td>63</td>\n",
              "      <td>52</td>\n",
              "      <td>67</td>\n",
              "    </tr>\n",
              "    <tr>\n",
              "      <th>4</th>\n",
              "      <td>57</td>\n",
              "      <td>55</td>\n",
              "      <td>59</td>\n",
              "      <td>47</td>\n",
              "    </tr>\n",
              "    <tr>\n",
              "      <th>5</th>\n",
              "      <td>68</td>\n",
              "      <td>53</td>\n",
              "      <td>66</td>\n",
              "      <td>53</td>\n",
              "    </tr>\n",
              "    <tr>\n",
              "      <th>6</th>\n",
              "      <td>73</td>\n",
              "      <td>59</td>\n",
              "      <td>73</td>\n",
              "      <td>58</td>\n",
              "    </tr>\n",
              "    <tr>\n",
              "      <th>7</th>\n",
              "      <td>65</td>\n",
              "      <td>63</td>\n",
              "      <td>64</td>\n",
              "      <td>49</td>\n",
              "    </tr>\n",
              "  </tbody>\n",
              "</table>\n",
              "</div>"
            ],
            "text/plain": [
              "    A   B   C   D\n",
              "0  66  62  65  52\n",
              "1  62  60  60  59\n",
              "2  80  66  78  44\n",
              "3  50  63  52  67\n",
              "4  57  55  59  47\n",
              "5  68  53  66  53\n",
              "6  73  59  73  58\n",
              "7  65  63  64  49"
            ]
          },
          "metadata": {
            "tags": []
          },
          "execution_count": 127
        }
      ]
    },
    {
      "cell_type": "code",
      "metadata": {
        "colab": {
          "base_uri": "https://localhost:8080/"
        },
        "id": "0qjcz8SxpqNI",
        "outputId": "0e8136a5-1041-46b9-cabf-e2c06367259c"
      },
      "source": [
        "print('H_0: すべての水準で平均が等しく、水準による効果が0である')\r\n",
        "print('H_1: 平均が一般平均と等しくなく、効果が0でない水準が存在する')\r\n",
        "print('α = 0.05')\r\n",
        "\r\n",
        "# 全体の標本平均\r\n",
        "y = data.stack().mean()\r\n",
        "\r\n",
        "# 水準ごとの標本平均\r\n",
        "y_a = data['A'].mean()\r\n",
        "y_b = data['B'].mean()\r\n",
        "y_c = data['C'].mean()\r\n",
        "y_d = data['D'].mean()\r\n",
        "y_i = {'A':y_a, 'B':y_b, 'C':y_c, 'D':y_d}\r\n",
        "\r\n",
        "# 全平方和, 群間平方和\r\n",
        "S_t = 0\r\n",
        "S_a = 0\r\n",
        "for i in ['A', 'B', 'C', 'D']:\r\n",
        "  S_a += 8 * ((y_i[i]-y)**2)\r\n",
        "  for j in range(8):\r\n",
        "    S_t += (y - data[i][j])**2\r\n",
        "\r\n",
        "# 群内平方和\r\n",
        "S_r = S_t - S_a\r\n",
        "\r\n",
        "# 自由度\r\n",
        "phi_a = 4 -1\r\n",
        "phi_r = 32 - 4\r\n",
        "phi_t = 32 - 1\r\n",
        "\r\n",
        "# 分散\r\n",
        "V_a = S_a / phi_a\r\n",
        "V_r = S_r / phi_r\r\n",
        "\r\n",
        "# F値\r\n",
        "f = V_a / V_r\r\n",
        "\r\n",
        "S = [S_a, S_r, S_t]\r\n",
        "phi = [phi_a, phi_r, phi_t]\r\n",
        "V = [V_a, V_r, None]\r\n",
        "F = [f, None, None]\r\n",
        "anova_table = pd.DataFrame({'平方和':S,\r\n",
        "                      '自由度':phi,\r\n",
        "                      '分散':V,\r\n",
        "                      'F値':F})\r\n",
        "anova_table.index = ['群間', '群内', '計']\r\n",
        "\r\n",
        "alpha = 0.05\r\n",
        "f_a = sp.stats.f.ppf(alpha, phi_a, phi_r)\r\n",
        "print(f, f_a)\r\n",
        "\r\n",
        "if f > f_a:\r\n",
        "  print('帰無仮説を棄却する（有意水準5%で異なる水準の異なる効果を認められる）')\r\n",
        "  print('つまり学校の違いがテストの得点に影響を及ぼす可能性がある。')\r\n",
        "else:\r\n",
        "  print('帰無仮説を棄却しない（有意水準5%で異なる水準の異なる効果を認められないとはいえない）')"
      ],
      "execution_count": null,
      "outputs": [
        {
          "output_type": "stream",
          "text": [
            "H_0: すべての水準で平均が等しく、水準による効果が0である\n",
            "H_1: 平均が一般平均と等しくなく、効果が0でない水準が存在する\n",
            "α = 0.05\n",
            "4.024870903151017 0.11597074260606918\n",
            "帰無仮説を棄却する（有意水準5%で異なる水準の異なる効果を認められる）\n",
            "つまり学校の違いがテストの得点に影響を及ぼす可能性がある。\n"
          ],
          "name": "stdout"
        }
      ]
    },
    {
      "cell_type": "code",
      "metadata": {
        "colab": {
          "base_uri": "https://localhost:8080/",
          "height": 141
        },
        "id": "jqidRYJdxMEf",
        "outputId": "a0d4e97b-81f1-4f72-8ca1-7d2e67244f06"
      },
      "source": [
        "anova_table"
      ],
      "execution_count": null,
      "outputs": [
        {
          "output_type": "execute_result",
          "data": {
            "text/html": [
              "<div>\n",
              "<style scoped>\n",
              "    .dataframe tbody tr th:only-of-type {\n",
              "        vertical-align: middle;\n",
              "    }\n",
              "\n",
              "    .dataframe tbody tr th {\n",
              "        vertical-align: top;\n",
              "    }\n",
              "\n",
              "    .dataframe thead th {\n",
              "        text-align: right;\n",
              "    }\n",
              "</style>\n",
              "<table border=\"1\" class=\"dataframe\">\n",
              "  <thead>\n",
              "    <tr style=\"text-align: right;\">\n",
              "      <th></th>\n",
              "      <th>平方和</th>\n",
              "      <th>自由度</th>\n",
              "      <th>分散</th>\n",
              "      <th>F値</th>\n",
              "    </tr>\n",
              "  </thead>\n",
              "  <tbody>\n",
              "    <tr>\n",
              "      <th>群間</th>\n",
              "      <td>682.0</td>\n",
              "      <td>3</td>\n",
              "      <td>227.333333</td>\n",
              "      <td>4.024871</td>\n",
              "    </tr>\n",
              "    <tr>\n",
              "      <th>群内</th>\n",
              "      <td>1581.5</td>\n",
              "      <td>28</td>\n",
              "      <td>56.482143</td>\n",
              "      <td>NaN</td>\n",
              "    </tr>\n",
              "    <tr>\n",
              "      <th>計</th>\n",
              "      <td>2263.5</td>\n",
              "      <td>31</td>\n",
              "      <td>NaN</td>\n",
              "      <td>NaN</td>\n",
              "    </tr>\n",
              "  </tbody>\n",
              "</table>\n",
              "</div>"
            ],
            "text/plain": [
              "       平方和  自由度          分散        F値\n",
              "群間   682.0    3  227.333333  4.024871\n",
              "群内  1581.5   28   56.482143       NaN\n",
              "計   2263.5   31         NaN       NaN"
            ]
          },
          "metadata": {
            "tags": []
          },
          "execution_count": 158
        }
      ]
    },
    {
      "cell_type": "code",
      "metadata": {
        "colab": {
          "base_uri": "https://localhost:8080/"
        },
        "id": "r2zGY7XnzNeh",
        "outputId": "53f6a80f-eafd-42d9-e1db-9bd43d4e8321"
      },
      "source": [
        "print('y_i:', y_i)\r\n",
        "print('この特性値が「値が大きいほど望ましい」のであれば、最適な水準はA校である。')\r\n",
        "print('A校の平均値y_aの信頼度95%の信頼限界は')\r\n",
        "t_a = sp.stats.t.ppf(0.975, 8)\r\n",
        "# print(t_a*np.sqrt(V_a/8))\r\n",
        "print('{:.2f} ± {:.2f}'.format(y_a, t_a*np.sqrt(V_a/8)))"
      ],
      "execution_count": null,
      "outputs": [
        {
          "output_type": "stream",
          "text": [
            "y_i: {'A': 65.125, 'B': 60.125, 'C': 64.625, 'D': 53.625}\n",
            "この特性値が「値が大きいほど望ましい」のであれば、最適な水準はA校である。\n",
            "A校の平均値y_aの信頼度95%の信頼限界は\n",
            "65.12 ± 12.29\n"
          ],
          "name": "stdout"
        }
      ]
    },
    {
      "cell_type": "markdown",
      "metadata": {
        "id": "Womjtaix2muV"
      },
      "source": [
        "## 9. 適合度の検定"
      ]
    },
    {
      "cell_type": "code",
      "metadata": {
        "colab": {
          "base_uri": "https://localhost:8080/",
          "height": 110
        },
        "id": "6PDUx_rX2ryb",
        "outputId": "b7bd7695-6b9c-4834-b286-dd61d9bde6ca"
      },
      "source": [
        "A = np.array([53,40])\r\n",
        "B = np.array([18, 20])\r\n",
        "O = np.array([24, 30])\r\n",
        "AB = np.array([5, 10])\r\n",
        "\r\n",
        "data = pd.DataFrame({'A':A, 'B':B, 'O':O, 'AB':AB})\r\n",
        "data.index = ['観測度数', '期待度数']\r\n",
        "data"
      ],
      "execution_count": null,
      "outputs": [
        {
          "output_type": "execute_result",
          "data": {
            "text/html": [
              "<div>\n",
              "<style scoped>\n",
              "    .dataframe tbody tr th:only-of-type {\n",
              "        vertical-align: middle;\n",
              "    }\n",
              "\n",
              "    .dataframe tbody tr th {\n",
              "        vertical-align: top;\n",
              "    }\n",
              "\n",
              "    .dataframe thead th {\n",
              "        text-align: right;\n",
              "    }\n",
              "</style>\n",
              "<table border=\"1\" class=\"dataframe\">\n",
              "  <thead>\n",
              "    <tr style=\"text-align: right;\">\n",
              "      <th></th>\n",
              "      <th>A</th>\n",
              "      <th>B</th>\n",
              "      <th>O</th>\n",
              "      <th>AB</th>\n",
              "    </tr>\n",
              "  </thead>\n",
              "  <tbody>\n",
              "    <tr>\n",
              "      <th>観測度数</th>\n",
              "      <td>53</td>\n",
              "      <td>18</td>\n",
              "      <td>24</td>\n",
              "      <td>5</td>\n",
              "    </tr>\n",
              "    <tr>\n",
              "      <th>期待度数</th>\n",
              "      <td>40</td>\n",
              "      <td>20</td>\n",
              "      <td>30</td>\n",
              "      <td>10</td>\n",
              "    </tr>\n",
              "  </tbody>\n",
              "</table>\n",
              "</div>"
            ],
            "text/plain": [
              "       A   B   O  AB\n",
              "観測度数  53  18  24   5\n",
              "期待度数  40  20  30  10"
            ]
          },
          "metadata": {
            "tags": []
          },
          "execution_count": 159
        }
      ]
    },
    {
      "cell_type": "code",
      "metadata": {
        "colab": {
          "base_uri": "https://localhost:8080/"
        },
        "id": "ZwMci5k533BE",
        "outputId": "6f4d3568-11d4-4b99-a328-3e34a29e39c7"
      },
      "source": [
        "print('H_0: 実測値の分布と理論値の分布は一致する')\r\n",
        "print('H_1: 実測値の分布と理論値の分布は一致しない')\r\n",
        "print('α = 0.05')\r\n",
        "alpha = 0.05\r\n",
        "\r\n",
        "chi2 = 0\r\n",
        "for i in ['A', 'B', 'O', 'AB']:\r\n",
        "  fi = data[i]['観測度数']\r\n",
        "  ei = data[i]['期待度数']\r\n",
        "  chi2 += (fi - ei)**2 / ei\r\n",
        "\r\n",
        "df = 4 - 1\r\n",
        "chi2_a = sp.stats.chi2.ppf(1-alpha, df)\r\n",
        "\r\n",
        "if chi2 > chi2_a:\r\n",
        "  print('帰無仮説を棄却する（実測値の分布と理論値の分布は一致しない）')\r\n",
        "else:\r\n",
        "  print('帰無仮説を棄却しない（実測値の分布と理論値の分布は一致しないとはいえない）')"
      ],
      "execution_count": null,
      "outputs": [
        {
          "output_type": "stream",
          "text": [
            "H_0: 実測値の分布と理論値の分布は一致する\n",
            "H_1: 実測値の分布と理論値の分布は一致しない\n",
            "α = 0.05\n",
            "帰無仮説を棄却する（実測値の分布と理論値の分布は一致しない）\n"
          ],
          "name": "stdout"
        }
      ]
    },
    {
      "cell_type": "markdown",
      "metadata": {
        "id": "uvqatysJ5-Ei"
      },
      "source": [
        "## 10. 独立性の検定"
      ]
    },
    {
      "cell_type": "code",
      "metadata": {
        "colab": {
          "base_uri": "https://localhost:8080/",
          "height": 159
        },
        "id": "jfjrvQy26Col",
        "outputId": "9bbcc579-c0d3-4963-87ed-03c75273ace6"
      },
      "source": [
        "A_f = np.array([55,40, 95])\r\n",
        "B_f = np.array([16, 24, 40])\r\n",
        "O_f = np.array([22, 32, 54])\r\n",
        "AB_f = np.array([7, 4, 11])\r\n",
        "total_f = np.array([100, 100, 200])\r\n",
        "\r\n",
        "data_f = pd.DataFrame({'A':A_f, 'B':B_f, 'O':O_f, 'AB':AB_f, '計':total_f})\r\n",
        "data_f.index = ['男性', '女性', '計']\r\n",
        "print('観測度数')\r\n",
        "data_f"
      ],
      "execution_count": null,
      "outputs": [
        {
          "output_type": "stream",
          "text": [
            "観測度数\n"
          ],
          "name": "stdout"
        },
        {
          "output_type": "execute_result",
          "data": {
            "text/html": [
              "<div>\n",
              "<style scoped>\n",
              "    .dataframe tbody tr th:only-of-type {\n",
              "        vertical-align: middle;\n",
              "    }\n",
              "\n",
              "    .dataframe tbody tr th {\n",
              "        vertical-align: top;\n",
              "    }\n",
              "\n",
              "    .dataframe thead th {\n",
              "        text-align: right;\n",
              "    }\n",
              "</style>\n",
              "<table border=\"1\" class=\"dataframe\">\n",
              "  <thead>\n",
              "    <tr style=\"text-align: right;\">\n",
              "      <th></th>\n",
              "      <th>A</th>\n",
              "      <th>B</th>\n",
              "      <th>O</th>\n",
              "      <th>AB</th>\n",
              "      <th>計</th>\n",
              "    </tr>\n",
              "  </thead>\n",
              "  <tbody>\n",
              "    <tr>\n",
              "      <th>男性</th>\n",
              "      <td>55</td>\n",
              "      <td>16</td>\n",
              "      <td>22</td>\n",
              "      <td>7</td>\n",
              "      <td>100</td>\n",
              "    </tr>\n",
              "    <tr>\n",
              "      <th>女性</th>\n",
              "      <td>40</td>\n",
              "      <td>24</td>\n",
              "      <td>32</td>\n",
              "      <td>4</td>\n",
              "      <td>100</td>\n",
              "    </tr>\n",
              "    <tr>\n",
              "      <th>計</th>\n",
              "      <td>95</td>\n",
              "      <td>40</td>\n",
              "      <td>54</td>\n",
              "      <td>11</td>\n",
              "      <td>200</td>\n",
              "    </tr>\n",
              "  </tbody>\n",
              "</table>\n",
              "</div>"
            ],
            "text/plain": [
              "     A   B   O  AB    計\n",
              "男性  55  16  22   7  100\n",
              "女性  40  24  32   4  100\n",
              "計   95  40  54  11  200"
            ]
          },
          "metadata": {
            "tags": []
          },
          "execution_count": 187
        }
      ]
    },
    {
      "cell_type": "code",
      "metadata": {
        "colab": {
          "base_uri": "https://localhost:8080/",
          "height": 177
        },
        "id": "90X8Ss6r6wW-",
        "outputId": "53b5a8be-1094-4325-dca2-9a852c1c5184"
      },
      "source": [
        "e_a = A_f[2]/2.0\r\n",
        "e_b = B_f[2]/2.0\r\n",
        "e_o = O_f[2]/2.0\r\n",
        "e_ab = AB_f[2]/2.0\r\n",
        "A_e = np.array([e_a, e_a, 95])\r\n",
        "B_e = np.array([e_b, e_b, 54])\r\n",
        "O_e = np.array([e_o, e_o, 40])\r\n",
        "AB_e = np.array([e_ab, e_ab, 11])\r\n",
        "total_e = np.array([100, 100, 200])\r\n",
        "data_e = pd.DataFrame({'A':A_e, 'B':B_e, 'O':O_e, 'AB':AB_e, '計':total_e})\r\n",
        "data_e.index = ['男性', '女性', '計']\r\n",
        "print('男女比1:1という仮定の下で')\r\n",
        "print('期待度数')\r\n",
        "data_e"
      ],
      "execution_count": null,
      "outputs": [
        {
          "output_type": "stream",
          "text": [
            "男女比1:1という仮定の下で\n",
            "期待度数\n"
          ],
          "name": "stdout"
        },
        {
          "output_type": "execute_result",
          "data": {
            "text/html": [
              "<div>\n",
              "<style scoped>\n",
              "    .dataframe tbody tr th:only-of-type {\n",
              "        vertical-align: middle;\n",
              "    }\n",
              "\n",
              "    .dataframe tbody tr th {\n",
              "        vertical-align: top;\n",
              "    }\n",
              "\n",
              "    .dataframe thead th {\n",
              "        text-align: right;\n",
              "    }\n",
              "</style>\n",
              "<table border=\"1\" class=\"dataframe\">\n",
              "  <thead>\n",
              "    <tr style=\"text-align: right;\">\n",
              "      <th></th>\n",
              "      <th>A</th>\n",
              "      <th>B</th>\n",
              "      <th>O</th>\n",
              "      <th>AB</th>\n",
              "      <th>計</th>\n",
              "    </tr>\n",
              "  </thead>\n",
              "  <tbody>\n",
              "    <tr>\n",
              "      <th>男性</th>\n",
              "      <td>47.5</td>\n",
              "      <td>20.0</td>\n",
              "      <td>27.0</td>\n",
              "      <td>5.5</td>\n",
              "      <td>100</td>\n",
              "    </tr>\n",
              "    <tr>\n",
              "      <th>女性</th>\n",
              "      <td>47.5</td>\n",
              "      <td>20.0</td>\n",
              "      <td>27.0</td>\n",
              "      <td>5.5</td>\n",
              "      <td>100</td>\n",
              "    </tr>\n",
              "    <tr>\n",
              "      <th>計</th>\n",
              "      <td>95.0</td>\n",
              "      <td>54.0</td>\n",
              "      <td>40.0</td>\n",
              "      <td>11.0</td>\n",
              "      <td>200</td>\n",
              "    </tr>\n",
              "  </tbody>\n",
              "</table>\n",
              "</div>"
            ],
            "text/plain": [
              "       A     B     O    AB    計\n",
              "男性  47.5  20.0  27.0   5.5  100\n",
              "女性  47.5  20.0  27.0   5.5  100\n",
              "計   95.0  54.0  40.0  11.0  200"
            ]
          },
          "metadata": {
            "tags": []
          },
          "execution_count": 189
        }
      ]
    },
    {
      "cell_type": "code",
      "metadata": {
        "colab": {
          "base_uri": "https://localhost:8080/"
        },
        "id": "8hxL2zKx8uzJ",
        "outputId": "2d71fac1-bb69-49b4-d3ba-ef81ca13d844"
      },
      "source": [
        "chi2 = 0\r\n",
        "for i in ['A', 'B', 'O', 'AB']:\r\n",
        "  for j in ['男性', '女性']:\r\n",
        "    fij = data_f[i][j]\r\n",
        "    eij = data_e[i][j]\r\n",
        "\r\n",
        "    chi2 += ((fij - eij)**2)/ eij\r\n",
        "\r\n",
        "df = (2 - 1) * (4 - 1)\r\n",
        "chi2_a = sp.stats.chi2.ppf(1-alpha, df)\r\n",
        "\r\n",
        "print(chi2, chi2_a)\r\n",
        "\r\n",
        "if chi2 > chi2_a:\r\n",
        "  print('帰無仮説を棄却する（実測値の分布と理論値の分布は独立でない）')\r\n",
        "else:\r\n",
        "  print('帰無仮説を棄却しない（実測値の分布と理論値の分布は独立でないとはいえない）')"
      ],
      "execution_count": null,
      "outputs": [
        {
          "output_type": "stream",
          "text": [
            "6.638454722665248 7.814727903251179\n",
            "帰無仮説を棄却しない（実測値の分布と理論値の分布は独立でないとはいえない）\n"
          ],
          "name": "stdout"
        }
      ]
    },
    {
      "cell_type": "markdown",
      "metadata": {
        "id": "MgcWMlLYCsOy"
      },
      "source": [
        "## 11. 相関係数を使った検定"
      ]
    },
    {
      "cell_type": "code",
      "metadata": {
        "colab": {
          "base_uri": "https://localhost:8080/",
          "height": 315
        },
        "id": "8RM7llpgCp-n",
        "outputId": "9f23b674-9668-4bcf-fd48-bd393763a437"
      },
      "source": [
        "data = pd.DataFrame({ \r\n",
        "  'score':[67, 84, 80, 60, 68, 62, 51, 47, 49, 50, 57, 43, 56, 46, 42, 32, 44, 38],\r\n",
        "  'wins':[22, 20, 20, 18, 17, 18, 13, 11, 13, 14, 15, 13, 17, 12, 12, 5, 6, 4]\r\n",
        "})\r\n",
        "r = data.corr()['score']['wins']\r\n",
        "print('相関係数：', r)\r\n",
        "data.plot.scatter(x='score', y='wins')"
      ],
      "execution_count": null,
      "outputs": [
        {
          "output_type": "stream",
          "text": [
            "相関係数： 0.8698145616516957\n"
          ],
          "name": "stdout"
        },
        {
          "output_type": "execute_result",
          "data": {
            "text/plain": [
              "<matplotlib.axes._subplots.AxesSubplot at 0x7feac4b657b8>"
            ]
          },
          "metadata": {
            "tags": []
          },
          "execution_count": 208
        },
        {
          "output_type": "display_data",
          "data": {
            "image/png": "[encoded data removed]",
            "text/plain": [
              "<Figure size 432x288 with 1 Axes>"
            ]
          },
          "metadata": {
            "tags": [],
            "needs_background": "light"
          }
        }
      ]
    },
    {
      "cell_type": "code",
      "metadata": {
        "colab": {
          "base_uri": "https://localhost:8080/"
        },
        "id": "w3UeSWwaDdry",
        "outputId": "477c922b-e6f7-4001-cc80-7ba2ce68ef5f"
      },
      "source": [
        "# 母相関係数が0の場合\r\n",
        "print('H_0: 母相関係数 ρ = 0 である')\r\n",
        "print('H_1: 母相関係数 ρ ≠ 0 である')\r\n",
        "print('α = 0.05')\r\n",
        "\r\n",
        "n = len(data['score'])\r\n",
        "df = n - 2\r\n",
        "t = r * np.sqrt(df) / np.sqrt(1-r**2)\r\n",
        "t_a = sp.stats.t.ppf(0.975, df)\r\n",
        "print(t, t_a)\r\n",
        "if t > t_a:\r\n",
        "  print('帰無仮説を棄却する（母相関係数 ρ ≠ 0 である）')\r\n",
        "else:\r\n",
        "  print('帰無仮説を棄却しない（母相関係数 ρ ≠ 0 でないといえない）')"
      ],
      "execution_count": null,
      "outputs": [
        {
          "output_type": "stream",
          "text": [
            "H_0: 母相関係数 ρ = 0 である\n",
            "H_1: 母相関係数 ρ ≠ 0 である\n",
            "α = 0.05\n",
            "7.051900754579296 2.1199052992210112\n",
            "帰無仮説を棄却する（母相関係数 ρ ≠ 0 である）\n"
          ],
          "name": "stdout"
        }
      ]
    },
    {
      "cell_type": "code",
      "metadata": {
        "colab": {
          "base_uri": "https://localhost:8080/"
        },
        "id": "u-3dlhObE1So",
        "outputId": "d6e4f73b-2218-432b-966d-bf84ae2f17db"
      },
      "source": [
        "# 母相関係数が0でない場合\r\n",
        "print('H_0: 母相関係数 ρ = 0.80 である')\r\n",
        "print('H_1: 母相関係数 ρ ≠ 0.80 である')\r\n",
        "print('α = 0.05')\r\n",
        "\r\n",
        "rho = 0.80\r\n",
        "\r\n",
        "# フィッシャーのz変換\r\n",
        "z = 0.5 * np.log((1+r)/(1-r))\r\n",
        "eta = 0.5 * np.log((1+rho)/(1-rho))\r\n",
        "\r\n",
        "Z = np.sqrt(n-3) * (z - eta)\r\n",
        "\r\n",
        "Z_a = sp.stats.norm.ppf(0.975, loc=0, scale=1)\r\n",
        "print(Z, Z_a)\r\n",
        "\r\n",
        "if Z > Z_a:\r\n",
        "  print('帰無仮説を棄却する（母相関係数 ρ ≠ 0.80 である）')\r\n",
        "else:\r\n",
        "  print('帰無仮説を棄却しない（母相関係数 ρ ≠ 0.80 でないといえない）')"
      ],
      "execution_count": null,
      "outputs": [
        {
          "output_type": "stream",
          "text": [
            "H_0: 母相関係数 ρ = 0.80 である\n",
            "H_1: 母相関係数 ρ ≠ 0.80 である\n",
            "α = 0.05\n",
            "0.9051357275079721 1.959963984540054\n",
            "帰無仮説を棄却しない（母相関係数 ρ ≠ 0.80 でないといえない）\n"
          ],
          "name": "stdout"
        }
      ]
    },
    {
      "cell_type": "markdown",
      "metadata": {
        "id": "gsf-XO8eHq9p"
      },
      "source": [
        "## 12. Wilcoxsonの順位和検定"
      ]
    },
    {
      "cell_type": "code",
      "metadata": {
        "colab": {
          "base_uri": "https://localhost:8080/"
        },
        "id": "c9kkAAcWE27p",
        "outputId": "ada5ef46-a6f9-494b-c576-c2cdef7530ba"
      },
      "source": [
        "# データに重複はないとする\r\n",
        "x = [73, 62, 82, 78, 51, 90, 96, 80, 79, 68]\r\n",
        "y = [80, 61, 85, 83, 49, 95, 93, 88, 75, 81]\r\n",
        "print('f(x)を第1の母集団の分布とし、f(x-a)を第2の母集団の分布とするとき')\r\n",
        "print('H_0: a = 0 である（両者の分布が同一である）')\r\n",
        "print('H_1: a ≠ 0 である（両者の分布が同一でない）')\r\n",
        "print('α = 0.05')\r\n",
        "\r\n",
        "# Wilcoxsonの順位和検定の有意水準5%の両側検定における各値\r\n",
        "wa_low = 49\r\n",
        "wa_high = 87\r\n",
        "\r\n",
        "sorted_xy_list = sorted(x + y)\r\n",
        "xy_dict = {}\r\n",
        "for i, j in enumerate(sorted_xy_list):\r\n",
        "  xy_dict[j] = i + 1\r\n",
        "print('順位：', xy_dict)\r\n",
        "\r\n",
        "# Xiの順位の和W1\r\n",
        "W1 = 0\r\n",
        "for i in x:\r\n",
        "  W1 += xy_dict[i]\r\n",
        "print('順位和 W1 =', W1)\r\n",
        "\r\n",
        "\r\n",
        "if W1 <= wa_low or W1 >= wa_high:\r\n",
        "  print('帰無仮説を棄却する（両者の分布が同一でない）')\r\n",
        "else:\r\n",
        "  print('帰無仮説を棄却しない（両者の分布が同一でないといえない）')"
      ],
      "execution_count": null,
      "outputs": [
        {
          "output_type": "stream",
          "text": [
            "f(x)を第1の母集団の分布とし、f(x-a)を第2の母集団の分布とするとき\n",
            "H_0: a = 0 である（両者の分布が同一である）\n",
            "H_1: a ≠ 0 である（両者の分布が同一でない）\n",
            "α = 0.05\n",
            "順位： {49: 1, 51: 2, 61: 3, 62: 4, 68: 5, 73: 6, 75: 7, 78: 8, 79: 9, 80: 11, 81: 12, 82: 13, 83: 14, 85: 15, 88: 16, 90: 17, 93: 18, 95: 19, 96: 20}\n",
            "順位和 W1 = 95\n",
            "帰無仮説を棄却する（両者の分布が同一でない）\n"
          ],
          "name": "stdout"
        }
      ]
    },
    {
      "cell_type": "markdown",
      "metadata": {
        "id": "pZEaCFBHV48U"
      },
      "source": [
        "# 13. Wilcoxsonの符号付順位検定"
      ]
    },
    {
      "cell_type": "code",
      "metadata": {
        "colab": {
          "base_uri": "https://localhost:8080/",
          "height": 463
        },
        "id": "6lIO2VCkWDDi",
        "outputId": "ac0eb18f-e958-4412-b7fc-6476b1f85833"
      },
      "source": [
        "# データに重複はないとする\r\n",
        "x = [73, 62, 82, 78, 51, 90, 96, 80, 79, 68]\r\n",
        "y = [80, 61, 85, 83, 49, 95, 93, 88, 75, 81]\r\n",
        "print('f(x)を第1の母集団の分布とし、f(x-a)を第2の母集団の分布とするとき')\r\n",
        "print('H_0: a = 0 である（両者の分布が同一である）')\r\n",
        "print('H_1: a ≠ 0 である（両者の分布が同一でない）')\r\n",
        "print('α = 0.05')\r\n",
        "\r\n",
        "# Wilcoxsonの符号付順位和検定の有意水準5%の両側検定における各値\r\n",
        "wa_low = 3\r\n",
        "wa_high = 33\r\n",
        "\r\n",
        "z = [y[i]-x[i] for i in range(len(x))]\r\n",
        "print(z)\r\n",
        "abs_z = [abs(y[i]-x[i]) for i in range(len(x))]\r\n",
        "print(abs_z)\r\n",
        "\r\n",
        "data = pd.DataFrame({ \r\n",
        "  'x':x,\r\n",
        "  'y':y,\r\n",
        "  '差':z,\r\n",
        "  '絶対値':abs_z,\r\n",
        "  '順位':[8,1,3.5,6.5,2,6.5,3.5,9,5,10]\r\n",
        "})\r\n",
        "data"
      ],
      "execution_count": null,
      "outputs": [
        {
          "output_type": "stream",
          "text": [
            "f(x)を第1の母集団の分布とし、f(x-a)を第2の母集団の分布とするとき\n",
            "H_0: a = 0 である（両者の分布が同一である）\n",
            "H_1: a ≠ 0 である（両者の分布が同一でない）\n",
            "α = 0.05\n",
            "[7, -1, 3, 5, -2, 5, -3, 8, -4, 13]\n",
            "[7, 1, 3, 5, 2, 5, 3, 8, 4, 13]\n"
          ],
          "name": "stdout"
        },
        {
          "output_type": "execute_result",
          "data": {
            "text/html": [
              "<div>\n",
              "<style scoped>\n",
              "    .dataframe tbody tr th:only-of-type {\n",
              "        vertical-align: middle;\n",
              "    }\n",
              "\n",
              "    .dataframe tbody tr th {\n",
              "        vertical-align: top;\n",
              "    }\n",
              "\n",
              "    .dataframe thead th {\n",
              "        text-align: right;\n",
              "    }\n",
              "</style>\n",
              "<table border=\"1\" class=\"dataframe\">\n",
              "  <thead>\n",
              "    <tr style=\"text-align: right;\">\n",
              "      <th></th>\n",
              "      <th>x</th>\n",
              "      <th>y</th>\n",
              "      <th>差</th>\n",
              "      <th>絶対値</th>\n",
              "      <th>順位</th>\n",
              "    </tr>\n",
              "  </thead>\n",
              "  <tbody>\n",
              "    <tr>\n",
              "      <th>0</th>\n",
              "      <td>73</td>\n",
              "      <td>80</td>\n",
              "      <td>7</td>\n",
              "      <td>7</td>\n",
              "      <td>8.0</td>\n",
              "    </tr>\n",
              "    <tr>\n",
              "      <th>1</th>\n",
              "      <td>62</td>\n",
              "      <td>61</td>\n",
              "      <td>-1</td>\n",
              "      <td>1</td>\n",
              "      <td>1.0</td>\n",
              "    </tr>\n",
              "    <tr>\n",
              "      <th>2</th>\n",
              "      <td>82</td>\n",
              "      <td>85</td>\n",
              "      <td>3</td>\n",
              "      <td>3</td>\n",
              "      <td>3.5</td>\n",
              "    </tr>\n",
              "    <tr>\n",
              "      <th>3</th>\n",
              "      <td>78</td>\n",
              "      <td>83</td>\n",
              "      <td>5</td>\n",
              "      <td>5</td>\n",
              "      <td>6.5</td>\n",
              "    </tr>\n",
              "    <tr>\n",
              "      <th>4</th>\n",
              "      <td>51</td>\n",
              "      <td>49</td>\n",
              "      <td>-2</td>\n",
              "      <td>2</td>\n",
              "      <td>2.0</td>\n",
              "    </tr>\n",
              "    <tr>\n",
              "      <th>5</th>\n",
              "      <td>90</td>\n",
              "      <td>95</td>\n",
              "      <td>5</td>\n",
              "      <td>5</td>\n",
              "      <td>6.5</td>\n",
              "    </tr>\n",
              "    <tr>\n",
              "      <th>6</th>\n",
              "      <td>96</td>\n",
              "      <td>93</td>\n",
              "      <td>-3</td>\n",
              "      <td>3</td>\n",
              "      <td>3.5</td>\n",
              "    </tr>\n",
              "    <tr>\n",
              "      <th>7</th>\n",
              "      <td>80</td>\n",
              "      <td>88</td>\n",
              "      <td>8</td>\n",
              "      <td>8</td>\n",
              "      <td>9.0</td>\n",
              "    </tr>\n",
              "    <tr>\n",
              "      <th>8</th>\n",
              "      <td>79</td>\n",
              "      <td>75</td>\n",
              "      <td>-4</td>\n",
              "      <td>4</td>\n",
              "      <td>5.0</td>\n",
              "    </tr>\n",
              "    <tr>\n",
              "      <th>9</th>\n",
              "      <td>68</td>\n",
              "      <td>81</td>\n",
              "      <td>13</td>\n",
              "      <td>13</td>\n",
              "      <td>10.0</td>\n",
              "    </tr>\n",
              "  </tbody>\n",
              "</table>\n",
              "</div>"
            ],
            "text/plain": [
              "    x   y   差  絶対値    順位\n",
              "0  73  80   7    7   8.0\n",
              "1  62  61  -1    1   1.0\n",
              "2  82  85   3    3   3.5\n",
              "3  78  83   5    5   6.5\n",
              "4  51  49  -2    2   2.0\n",
              "5  90  95   5    5   6.5\n",
              "6  96  93  -3    3   3.5\n",
              "7  80  88   8    8   9.0\n",
              "8  79  75  -4    4   5.0\n",
              "9  68  81  13   13  10.0"
            ]
          },
          "metadata": {
            "tags": []
          },
          "execution_count": 270
        }
      ]
    },
    {
      "cell_type": "code",
      "metadata": {
        "colab": {
          "base_uri": "https://localhost:8080/"
        },
        "id": "fXwSy209ZFDu",
        "outputId": "40e336e8-3d3b-47a3-f221-461fd31642bf"
      },
      "source": [
        "W_plus = 8 + 3.5 + 6.5 + 6.5 + 9 + 10\r\n",
        "W_minus = 1 + 2 + 3.5 + 5\r\n",
        "print(W_plus, W_minus)\r\n",
        "if W_plus < W_minus:\r\n",
        "  W2 = W_plus\r\n",
        "else:\r\n",
        "  W2 = W_minus\r\n",
        "\r\n",
        "if W2 <= wa_low or W2 >= wa_high:\r\n",
        "  print('帰無仮説を棄却する（両者の分布が同一でない）')\r\n",
        "else:\r\n",
        "  print('帰無仮説を棄却しない（両者の分布が同一でないといえない）')"
      ],
      "execution_count": null,
      "outputs": [
        {
          "output_type": "stream",
          "text": [
            "43.5 11.5\n",
            "帰無仮説を棄却しない（両者の分布が同一でないといえない）\n"
          ],
          "name": "stdout"
        }
      ]
    }
  ]
}